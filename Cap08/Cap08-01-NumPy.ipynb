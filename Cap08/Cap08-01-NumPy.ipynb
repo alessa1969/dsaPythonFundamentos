{
 "cells": [
  {
   "cell_type": "markdown",
   "id": "0dd48353",
   "metadata": {},
   "source": [
    "## <font color ='blue'> Data Science Academy - Python Fundamentos - Capítulo 8"
   ]
  },
  {
   "cell_type": "markdown",
   "id": "c18cd0d6",
   "metadata": {},
   "source": [
    "### NumPy"
   ]
  },
  {
   "cell_type": "markdown",
   "id": "c0bfba64",
   "metadata": {},
   "source": [
    "Para importar numpy, utilize: import numpy as np\n",
    "Você tamém pode utilizar: from numpy import *. Isso evitará a utiliçaão de np., mas este comando importará os módulos NumPy.\n",
    "Para utilizar o NumPy, abra o prompt de comando e digite pip install numpy -U"
   ]
  },
  {
   "cell_type": "code",
   "execution_count": 1,
   "id": "c0b9a281",
   "metadata": {},
   "outputs": [
    {
     "name": "stdout",
     "output_type": "stream",
     "text": [
      "Requirement already satisfied: numpy in /home/alexandre/anaconda3/lib/python3.9/site-packages (1.21.5)\n",
      "Collecting numpy\n",
      "  Downloading numpy-1.24.1-cp39-cp39-manylinux_2_17_x86_64.manylinux2014_x86_64.whl (17.3 MB)\n",
      "\u001b[2K     \u001b[38;2;114;156;31m━━━━━━━━━━━━━━━━━━━━━━━━━━━━━━━━━━━━━━━━\u001b[0m \u001b[32m17.3/17.3 MB\u001b[0m \u001b[31m3.5 MB/s\u001b[0m eta \u001b[36m0:00:00\u001b[0mm eta \u001b[36m0:00:01\u001b[0m[36m0:00:01\u001b[0m\n",
      "\u001b[?25hInstalling collected packages: numpy\n",
      "  Attempting uninstall: numpy\n",
      "    Found existing installation: numpy 1.21.5\n",
      "    Uninstalling numpy-1.21.5:\n",
      "      Successfully uninstalled numpy-1.21.5\n",
      "\u001b[31mERROR: pip's dependency resolver does not currently take into account all the packages that are installed. This behaviour is the source of the following dependency conflicts.\n",
      "daal4py 2021.6.0 requires daal==2021.4.0, which is not installed.\n",
      "numba 0.55.1 requires numpy<1.22,>=1.18, but you have numpy 1.24.1 which is incompatible.\u001b[0m\u001b[31m\n",
      "\u001b[0mSuccessfully installed numpy-1.24.1\n"
     ]
    }
   ],
   "source": [
    "!pip install numpy -U"
   ]
  },
  {
   "cell_type": "code",
   "execution_count": 2,
   "id": "c25d5a69",
   "metadata": {},
   "outputs": [],
   "source": [
    "# Importando o NumPy\n",
    "import numpy as np"
   ]
  },
  {
   "cell_type": "code",
   "execution_count": 3,
   "id": "80852537",
   "metadata": {},
   "outputs": [
    {
     "data": {
      "text/plain": [
       "'1.24.1'"
      ]
     },
     "execution_count": 3,
     "metadata": {},
     "output_type": "execute_result"
    }
   ],
   "source": [
    "np.__version__"
   ]
  },
  {
   "cell_type": "markdown",
   "id": "cb8f111b",
   "metadata": {},
   "source": [
    "### Criando Arrays"
   ]
  },
  {
   "cell_type": "code",
   "execution_count": 4,
   "id": "a65c7bc0",
   "metadata": {},
   "outputs": [
    {
     "name": "stdout",
     "output_type": "stream",
     "text": [
      "Help on built-in function array in module numpy:\n",
      "\n",
      "array(...)\n",
      "    array(object, dtype=None, *, copy=True, order='K', subok=False, ndmin=0,\n",
      "          like=None)\n",
      "    \n",
      "    Create an array.\n",
      "    \n",
      "    Parameters\n",
      "    ----------\n",
      "    object : array_like\n",
      "        An array, any object exposing the array interface, an object whose\n",
      "        __array__ method returns an array, or any (nested) sequence.\n",
      "        If object is a scalar, a 0-dimensional array containing object is\n",
      "        returned.\n",
      "    dtype : data-type, optional\n",
      "        The desired data-type for the array.  If not given, then the type will\n",
      "        be determined as the minimum type required to hold the objects in the\n",
      "        sequence.\n",
      "    copy : bool, optional\n",
      "        If true (default), then the object is copied.  Otherwise, a copy will\n",
      "        only be made if __array__ returns a copy, if obj is a nested sequence,\n",
      "        or if a copy is needed to satisfy any of the other requirements\n",
      "        (`dtype`, `order`, etc.).\n",
      "    order : {'K', 'A', 'C', 'F'}, optional\n",
      "        Specify the memory layout of the array. If object is not an array, the\n",
      "        newly created array will be in C order (row major) unless 'F' is\n",
      "        specified, in which case it will be in Fortran order (column major).\n",
      "        If object is an array the following holds.\n",
      "    \n",
      "        ===== ========= ===================================================\n",
      "        order  no copy                     copy=True\n",
      "        ===== ========= ===================================================\n",
      "        'K'   unchanged F & C order preserved, otherwise most similar order\n",
      "        'A'   unchanged F order if input is F and not C, otherwise C order\n",
      "        'C'   C order   C order\n",
      "        'F'   F order   F order\n",
      "        ===== ========= ===================================================\n",
      "    \n",
      "        When ``copy=False`` and a copy is made for other reasons, the result is\n",
      "        the same as if ``copy=True``, with some exceptions for 'A', see the\n",
      "        Notes section. The default order is 'K'.\n",
      "    subok : bool, optional\n",
      "        If True, then sub-classes will be passed-through, otherwise\n",
      "        the returned array will be forced to be a base-class array (default).\n",
      "    ndmin : int, optional\n",
      "        Specifies the minimum number of dimensions that the resulting\n",
      "        array should have.  Ones will be prepended to the shape as\n",
      "        needed to meet this requirement.\n",
      "    like : array_like, optional\n",
      "        Reference object to allow the creation of arrays which are not\n",
      "        NumPy arrays. If an array-like passed in as ``like`` supports\n",
      "        the ``__array_function__`` protocol, the result will be defined\n",
      "        by it. In this case, it ensures the creation of an array object\n",
      "        compatible with that passed in via this argument.\n",
      "    \n",
      "        .. versionadded:: 1.20.0\n",
      "    \n",
      "    Returns\n",
      "    -------\n",
      "    out : ndarray\n",
      "        An array object satisfying the specified requirements.\n",
      "    \n",
      "    See Also\n",
      "    --------\n",
      "    empty_like : Return an empty array with shape and type of input.\n",
      "    ones_like : Return an array of ones with shape and type of input.\n",
      "    zeros_like : Return an array of zeros with shape and type of input.\n",
      "    full_like : Return a new array with shape of input filled with value.\n",
      "    empty : Return a new uninitialized array.\n",
      "    ones : Return a new array setting values to one.\n",
      "    zeros : Return a new array setting values to zero.\n",
      "    full : Return a new array of given shape filled with value.\n",
      "    \n",
      "    \n",
      "    Notes\n",
      "    -----\n",
      "    When order is 'A' and `object` is an array in neither 'C' nor 'F' order,\n",
      "    and a copy is forced by a change in dtype, then the order of the result is\n",
      "    not necessarily 'C' as expected. This is likely a bug.\n",
      "    \n",
      "    Examples\n",
      "    --------\n",
      "    >>> np.array([1, 2, 3])\n",
      "    array([1, 2, 3])\n",
      "    \n",
      "    Upcasting:\n",
      "    \n",
      "    >>> np.array([1, 2, 3.0])\n",
      "    array([ 1.,  2.,  3.])\n",
      "    \n",
      "    More than one dimension:\n",
      "    \n",
      "    >>> np.array([[1, 2], [3, 4]])\n",
      "    array([[1, 2],\n",
      "           [3, 4]])\n",
      "    \n",
      "    Minimum dimensions 2:\n",
      "    \n",
      "    >>> np.array([1, 2, 3], ndmin=2)\n",
      "    array([[1, 2, 3]])\n",
      "    \n",
      "    Type provided:\n",
      "    \n",
      "    >>> np.array([1, 2, 3], dtype=complex)\n",
      "    array([ 1.+0.j,  2.+0.j,  3.+0.j])\n",
      "    \n",
      "    Data-type consisting of more than one element:\n",
      "    \n",
      "    >>> x = np.array([(1,2),(3,4)],dtype=[('a','<i4'),('b','<i4')])\n",
      "    >>> x['a']\n",
      "    array([1, 3])\n",
      "    \n",
      "    Creating an array from sub-classes:\n",
      "    \n",
      "    >>> np.array(np.mat('1 2; 3 4'))\n",
      "    array([[1, 2],\n",
      "           [3, 4]])\n",
      "    \n",
      "    >>> np.array(np.mat('1 2; 3 4'), subok=True)\n",
      "    matrix([[1, 2],\n",
      "            [3, 4]])\n",
      "\n"
     ]
    }
   ],
   "source": [
    "# Help\n",
    "help(np.array)"
   ]
  },
  {
   "cell_type": "code",
   "execution_count": 5,
   "id": "ab8de858",
   "metadata": {},
   "outputs": [],
   "source": [
    "vetor1 = np.array([0,1,2,3,4,5,6,7,8])"
   ]
  },
  {
   "cell_type": "code",
   "execution_count": 6,
   "id": "2378bf51",
   "metadata": {},
   "outputs": [
    {
     "name": "stdout",
     "output_type": "stream",
     "text": [
      "[0 1 2 3 4 5 6 7 8]\n"
     ]
    }
   ],
   "source": [
    "print(vetor1)"
   ]
  },
  {
   "cell_type": "code",
   "execution_count": 7,
   "id": "abf32527",
   "metadata": {},
   "outputs": [
    {
     "data": {
      "text/plain": [
       "numpy.ndarray"
      ]
     },
     "execution_count": 7,
     "metadata": {},
     "output_type": "execute_result"
    }
   ],
   "source": [
    "# Um objeto do tipo ndarray é um recipiente multidimensional de itens do mesmo tipo e tamanho.\n",
    "type(vetor1)"
   ]
  },
  {
   "cell_type": "code",
   "execution_count": 8,
   "id": "2a7459cd",
   "metadata": {},
   "outputs": [
    {
     "data": {
      "text/plain": [
       "array([ 0,  1,  3,  6, 10, 15, 21, 28, 36])"
      ]
     },
     "execution_count": 8,
     "metadata": {},
     "output_type": "execute_result"
    }
   ],
   "source": [
    "# Usando métodos do array NumPy\n",
    "vetor1.cumsum()"
   ]
  },
  {
   "cell_type": "code",
   "execution_count": 9,
   "id": "6567dd1b",
   "metadata": {},
   "outputs": [],
   "source": [
    "# Criando uma lista. Perceba como listas e arrays são objetos diferentes, com diferentes propriedades\n",
    "lst =[0,1,2,3,4,5,6,7,8,]"
   ]
  },
  {
   "cell_type": "code",
   "execution_count": 10,
   "id": "f72b09c3",
   "metadata": {},
   "outputs": [
    {
     "data": {
      "text/plain": [
       "[0, 1, 2, 3, 4, 5, 6, 7, 8]"
      ]
     },
     "execution_count": 10,
     "metadata": {},
     "output_type": "execute_result"
    }
   ],
   "source": [
    "lst"
   ]
  },
  {
   "cell_type": "code",
   "execution_count": 11,
   "id": "257d7429",
   "metadata": {},
   "outputs": [
    {
     "data": {
      "text/plain": [
       "list"
      ]
     },
     "execution_count": 11,
     "metadata": {},
     "output_type": "execute_result"
    }
   ],
   "source": [
    "type(lst)"
   ]
  },
  {
   "cell_type": "code",
   "execution_count": 12,
   "id": "bd7f1a30",
   "metadata": {},
   "outputs": [
    {
     "data": {
      "text/plain": [
       "0"
      ]
     },
     "execution_count": 12,
     "metadata": {},
     "output_type": "execute_result"
    }
   ],
   "source": [
    "# Imprimindo na tela um elemento específico no array\n",
    "vetor1[0]"
   ]
  },
  {
   "cell_type": "code",
   "execution_count": 13,
   "id": "3b8c0f70",
   "metadata": {},
   "outputs": [],
   "source": [
    "vetor1[0] = 100"
   ]
  },
  {
   "cell_type": "code",
   "execution_count": 14,
   "id": "ebdd0815",
   "metadata": {},
   "outputs": [
    {
     "name": "stdout",
     "output_type": "stream",
     "text": [
      "100\n"
     ]
    }
   ],
   "source": [
    "print(vetor1[0])"
   ]
  },
  {
   "cell_type": "code",
   "execution_count": 15,
   "id": "94be952a",
   "metadata": {},
   "outputs": [
    {
     "name": "stdout",
     "output_type": "stream",
     "text": [
      "(9,)\n"
     ]
    }
   ],
   "source": [
    "# verificando o formato do array\n",
    "print(vetor1.shape)"
   ]
  },
  {
   "cell_type": "markdown",
   "id": "22245328",
   "metadata": {},
   "source": [
    "### Funções NumPy"
   ]
  },
  {
   "cell_type": "code",
   "execution_count": 16,
   "id": "b238f32a",
   "metadata": {},
   "outputs": [],
   "source": [
    "# A função arange cria um vetor contendo ua progressão aritmética a partir de um itervalo -start, stop, step\n",
    "vetor2 = np.arange(0., 4.5, .5)"
   ]
  },
  {
   "cell_type": "code",
   "execution_count": 17,
   "id": "7a070940",
   "metadata": {},
   "outputs": [
    {
     "name": "stdout",
     "output_type": "stream",
     "text": [
      "[0.  0.5 1.  1.5 2.  2.5 3.  3.5 4. ]\n"
     ]
    }
   ],
   "source": [
    "print(vetor2)"
   ]
  },
  {
   "cell_type": "code",
   "execution_count": 18,
   "id": "eb1004d8",
   "metadata": {},
   "outputs": [
    {
     "data": {
      "text/plain": [
       "numpy.ndarray"
      ]
     },
     "execution_count": 18,
     "metadata": {},
     "output_type": "execute_result"
    }
   ],
   "source": [
    "# Verificando o tipo do objeto\n",
    "type(vetor2)"
   ]
  },
  {
   "cell_type": "code",
   "execution_count": 19,
   "id": "cc348fa5",
   "metadata": {},
   "outputs": [
    {
     "data": {
      "text/plain": [
       "(9,)"
      ]
     },
     "execution_count": 19,
     "metadata": {},
     "output_type": "execute_result"
    }
   ],
   "source": [
    "# Formato do array\n",
    "np.shape(vetor2)"
   ]
  },
  {
   "cell_type": "code",
   "execution_count": 20,
   "id": "702550a3",
   "metadata": {},
   "outputs": [
    {
     "name": "stdout",
     "output_type": "stream",
     "text": [
      "float64\n"
     ]
    }
   ],
   "source": [
    "print(vetor2.dtype)"
   ]
  },
  {
   "cell_type": "code",
   "execution_count": 21,
   "id": "16dca4a4",
   "metadata": {},
   "outputs": [
    {
     "name": "stdout",
     "output_type": "stream",
     "text": [
      "[1.   1.25 1.5  1.75 2.   2.25 2.5  2.75 3.   3.25 3.5  3.75 4.   4.25\n",
      " 4.5  4.75 5.   5.25 5.5  5.75 6.   6.25 6.5  6.75 7.   7.25 7.5  7.75\n",
      " 8.   8.25 8.5  8.75 9.   9.25 9.5  9.75]\n"
     ]
    }
   ],
   "source": [
    "x = np.arange(1, 10, 0.25)\n",
    "print(x)"
   ]
  },
  {
   "cell_type": "code",
   "execution_count": 22,
   "id": "a79fda1c",
   "metadata": {},
   "outputs": [
    {
     "name": "stdout",
     "output_type": "stream",
     "text": [
      "[0. 0. 0. 0. 0. 0. 0. 0. 0. 0.]\n"
     ]
    }
   ],
   "source": [
    "print(np.zeros(10))"
   ]
  },
  {
   "cell_type": "code",
   "execution_count": 23,
   "id": "ce634c5d",
   "metadata": {},
   "outputs": [],
   "source": [
    "# Retorna 1 nas posições em diagonal e 0 no restante\n",
    "z = np.eye(3)"
   ]
  },
  {
   "cell_type": "code",
   "execution_count": 24,
   "id": "7415789e",
   "metadata": {},
   "outputs": [
    {
     "data": {
      "text/plain": [
       "array([[1., 0., 0.],\n",
       "       [0., 1., 0.],\n",
       "       [0., 0., 1.]])"
      ]
     },
     "execution_count": 24,
     "metadata": {},
     "output_type": "execute_result"
    }
   ],
   "source": [
    "z"
   ]
  },
  {
   "cell_type": "code",
   "execution_count": 25,
   "id": "9c5a2ad5",
   "metadata": {},
   "outputs": [],
   "source": [
    "# Os valores passados como parâmetro, forma uma diagonal\n",
    "d = np.diag(np.array([1,2,3,4]))"
   ]
  },
  {
   "cell_type": "code",
   "execution_count": 26,
   "id": "6c5117d9",
   "metadata": {},
   "outputs": [
    {
     "data": {
      "text/plain": [
       "array([[1, 0, 0, 0],\n",
       "       [0, 2, 0, 0],\n",
       "       [0, 0, 3, 0],\n",
       "       [0, 0, 0, 4]])"
      ]
     },
     "execution_count": 26,
     "metadata": {},
     "output_type": "execute_result"
    }
   ],
   "source": [
    "d"
   ]
  },
  {
   "cell_type": "code",
   "execution_count": 27,
   "id": "a81cb7f6",
   "metadata": {},
   "outputs": [],
   "source": [
    "c  = np.array([1+2j, 3+4j, 5+6*1j])"
   ]
  },
  {
   "cell_type": "code",
   "execution_count": 28,
   "id": "e5aa42cb",
   "metadata": {},
   "outputs": [
    {
     "data": {
      "text/plain": [
       "array([1.+2.j, 3.+4.j, 5.+6.j])"
      ]
     },
     "execution_count": 28,
     "metadata": {},
     "output_type": "execute_result"
    }
   ],
   "source": [
    "c"
   ]
  },
  {
   "cell_type": "code",
   "execution_count": 29,
   "id": "aa9e1052",
   "metadata": {},
   "outputs": [],
   "source": [
    "# Array de valores booleanos\n",
    "b = np.array([True, False, False, True])"
   ]
  },
  {
   "cell_type": "code",
   "execution_count": 30,
   "id": "1112f256",
   "metadata": {},
   "outputs": [
    {
     "data": {
      "text/plain": [
       "array([ True, False, False,  True])"
      ]
     },
     "execution_count": 30,
     "metadata": {},
     "output_type": "execute_result"
    }
   ],
   "source": [
    "b"
   ]
  },
  {
   "cell_type": "code",
   "execution_count": 31,
   "id": "cbd25e6c",
   "metadata": {},
   "outputs": [],
   "source": [
    "# Array de strings\n",
    "s = np.array(['Python', 'R', 'Julia'])"
   ]
  },
  {
   "cell_type": "code",
   "execution_count": 32,
   "id": "c04dcab7",
   "metadata": {},
   "outputs": [
    {
     "data": {
      "text/plain": [
       "array(['Python', 'R', 'Julia'], dtype='<U6')"
      ]
     },
     "execution_count": 32,
     "metadata": {},
     "output_type": "execute_result"
    }
   ],
   "source": [
    "s"
   ]
  },
  {
   "cell_type": "code",
   "execution_count": 33,
   "id": "b503af96",
   "metadata": {},
   "outputs": [
    {
     "data": {
      "text/plain": [
       "array([ 0.        ,  0.20408163,  0.40816327,  0.6122449 ,  0.81632653,\n",
       "        1.02040816,  1.2244898 ,  1.42857143,  1.63265306,  1.83673469,\n",
       "        2.04081633,  2.24489796,  2.44897959,  2.65306122,  2.85714286,\n",
       "        3.06122449,  3.26530612,  3.46938776,  3.67346939,  3.87755102,\n",
       "        4.08163265,  4.28571429,  4.48979592,  4.69387755,  4.89795918,\n",
       "        5.10204082,  5.30612245,  5.51020408,  5.71428571,  5.91836735,\n",
       "        6.12244898,  6.32653061,  6.53061224,  6.73469388,  6.93877551,\n",
       "        7.14285714,  7.34693878,  7.55102041,  7.75510204,  7.95918367,\n",
       "        8.16326531,  8.36734694,  8.57142857,  8.7755102 ,  8.97959184,\n",
       "        9.18367347,  9.3877551 ,  9.59183673,  9.79591837, 10.        ])"
      ]
     },
     "execution_count": 33,
     "metadata": {},
     "output_type": "execute_result"
    }
   ],
   "source": [
    "# O m´etodo linspace (linearly spaced vector) retorna um número de\n",
    "# valores igualmente distribuidos no intervalo especificado\n",
    "np.linspace(0,10)"
   ]
  },
  {
   "cell_type": "code",
   "execution_count": 34,
   "id": "24959a97",
   "metadata": {},
   "outputs": [
    {
     "name": "stdout",
     "output_type": "stream",
     "text": [
      "[ 0.          0.71428571  1.42857143  2.14285714  2.85714286  3.57142857\n",
      "  4.28571429  5.          5.71428571  6.42857143  7.14285714  7.85714286\n",
      "  8.57142857  9.28571429 10.        ]\n"
     ]
    }
   ],
   "source": [
    "print(np.linspace(0,10,15))"
   ]
  },
  {
   "cell_type": "code",
   "execution_count": 35,
   "id": "234ff638",
   "metadata": {},
   "outputs": [
    {
     "name": "stdout",
     "output_type": "stream",
     "text": [
      "[1.00000000e+00 3.59381366e+00 1.29154967e+01 4.64158883e+01\n",
      " 1.66810054e+02 5.99484250e+02 2.15443469e+03 7.74263683e+03\n",
      " 2.78255940e+04 1.00000000e+05]\n"
     ]
    }
   ],
   "source": [
    "print(np.logspace(0,5,10))"
   ]
  },
  {
   "cell_type": "markdown",
   "id": "6c37b3c0",
   "metadata": {},
   "source": [
    "### Criando Matrizes"
   ]
  },
  {
   "cell_type": "code",
   "execution_count": 36,
   "id": "07749c36",
   "metadata": {},
   "outputs": [],
   "source": [
    "matriz = np.array([[1,2,3], [4,5,6]])"
   ]
  },
  {
   "cell_type": "code",
   "execution_count": 37,
   "id": "f7532f04",
   "metadata": {},
   "outputs": [
    {
     "name": "stdout",
     "output_type": "stream",
     "text": [
      "[[1 2 3]\n",
      " [4 5 6]]\n"
     ]
    }
   ],
   "source": [
    "print(matriz)"
   ]
  },
  {
   "cell_type": "code",
   "execution_count": 38,
   "id": "38d07a4c",
   "metadata": {},
   "outputs": [
    {
     "name": "stdout",
     "output_type": "stream",
     "text": [
      "(2, 3)\n"
     ]
    }
   ],
   "source": [
    "print(matriz.shape)"
   ]
  },
  {
   "cell_type": "code",
   "execution_count": 39,
   "id": "9c22cde1",
   "metadata": {},
   "outputs": [],
   "source": [
    "# Crinado uma matriz de 2x3 apenas com números 1\n",
    "matriz1 = np.ones((2,3))"
   ]
  },
  {
   "cell_type": "code",
   "execution_count": 40,
   "id": "cb6aea27",
   "metadata": {},
   "outputs": [
    {
     "name": "stdout",
     "output_type": "stream",
     "text": [
      "[[1. 1. 1.]\n",
      " [1. 1. 1.]]\n"
     ]
    }
   ],
   "source": [
    "print(matriz1)"
   ]
  },
  {
   "cell_type": "code",
   "execution_count": 41,
   "id": "dd4432e6",
   "metadata": {},
   "outputs": [],
   "source": [
    "# Criando uma matriz a partir de uma lista de listas\n",
    "lista = [[13,81,22],[0,34,59],[21,48,94]]"
   ]
  },
  {
   "cell_type": "code",
   "execution_count": 42,
   "id": "e56fe29f",
   "metadata": {},
   "outputs": [],
   "source": [
    "# a função matrix cria uma matriz a partir de uma sequencia\n",
    "matriz2 = np.matrix(lista)"
   ]
  },
  {
   "cell_type": "code",
   "execution_count": 43,
   "id": "421d2ee7",
   "metadata": {},
   "outputs": [
    {
     "data": {
      "text/plain": [
       "matrix([[13, 81, 22],\n",
       "        [ 0, 34, 59],\n",
       "        [21, 48, 94]])"
      ]
     },
     "execution_count": 43,
     "metadata": {},
     "output_type": "execute_result"
    }
   ],
   "source": [
    "matriz2"
   ]
  },
  {
   "cell_type": "code",
   "execution_count": 44,
   "id": "96a158c4",
   "metadata": {},
   "outputs": [
    {
     "data": {
      "text/plain": [
       "numpy.matrix"
      ]
     },
     "execution_count": 44,
     "metadata": {},
     "output_type": "execute_result"
    }
   ],
   "source": [
    "type(matriz2)"
   ]
  },
  {
   "cell_type": "code",
   "execution_count": 45,
   "id": "a23b593f",
   "metadata": {},
   "outputs": [
    {
     "data": {
      "text/plain": [
       "(3, 3)"
      ]
     },
     "execution_count": 45,
     "metadata": {},
     "output_type": "execute_result"
    }
   ],
   "source": [
    "# Formato da matriz\n",
    "np.shape(matriz2)"
   ]
  },
  {
   "cell_type": "code",
   "execution_count": 46,
   "id": "420034c5",
   "metadata": {},
   "outputs": [
    {
     "data": {
      "text/plain": [
       "9"
      ]
     },
     "execution_count": 46,
     "metadata": {},
     "output_type": "execute_result"
    }
   ],
   "source": [
    "matriz2.size"
   ]
  },
  {
   "cell_type": "code",
   "execution_count": 47,
   "id": "cd131fba",
   "metadata": {},
   "outputs": [
    {
     "name": "stdout",
     "output_type": "stream",
     "text": [
      "int64\n"
     ]
    }
   ],
   "source": [
    "print(matriz2.dtype)"
   ]
  },
  {
   "cell_type": "code",
   "execution_count": 48,
   "id": "98a23d84",
   "metadata": {},
   "outputs": [
    {
     "data": {
      "text/plain": [
       "8"
      ]
     },
     "execution_count": 48,
     "metadata": {},
     "output_type": "execute_result"
    }
   ],
   "source": [
    "matriz2.itemsize"
   ]
  },
  {
   "cell_type": "code",
   "execution_count": 49,
   "id": "c09bdaf5",
   "metadata": {},
   "outputs": [
    {
     "data": {
      "text/plain": [
       "72"
      ]
     },
     "execution_count": 49,
     "metadata": {},
     "output_type": "execute_result"
    }
   ],
   "source": [
    "matriz2.nbytes"
   ]
  },
  {
   "cell_type": "code",
   "execution_count": 50,
   "id": "cc82cdaa",
   "metadata": {},
   "outputs": [
    {
     "name": "stdout",
     "output_type": "stream",
     "text": [
      "48\n"
     ]
    }
   ],
   "source": [
    "print(matriz2[2,1])"
   ]
  },
  {
   "cell_type": "code",
   "execution_count": 51,
   "id": "446da86f",
   "metadata": {},
   "outputs": [],
   "source": [
    "# Alterando um elemento da matriz\n",
    "matriz2[1,0]=100"
   ]
  },
  {
   "cell_type": "code",
   "execution_count": 52,
   "id": "2c589cf2",
   "metadata": {},
   "outputs": [
    {
     "data": {
      "text/plain": [
       "matrix([[ 13,  81,  22],\n",
       "        [100,  34,  59],\n",
       "        [ 21,  48,  94]])"
      ]
     },
     "execution_count": 52,
     "metadata": {},
     "output_type": "execute_result"
    }
   ],
   "source": [
    "matriz2"
   ]
  },
  {
   "cell_type": "code",
   "execution_count": 53,
   "id": "fbbcc594",
   "metadata": {},
   "outputs": [
    {
     "name": "stdout",
     "output_type": "stream",
     "text": [
      "int64 float64 float64\n"
     ]
    }
   ],
   "source": [
    "x = np.array([1,2]) # NummPy decide o tipo de dados\n",
    "y = np.array([1.0,2.0]) # NumPy decide o tipo de dados\n",
    "z = np.array([1,2], dtype=np.float64) # Forçamos um tipo de dado em particular\n",
    "print (x.dtype, y.dtype, z.dtype)"
   ]
  },
  {
   "cell_type": "code",
   "execution_count": 54,
   "id": "096d7551",
   "metadata": {},
   "outputs": [],
   "source": [
    "matriz3 = np.array([[24, 76], [35, 89]], dtype=float)"
   ]
  },
  {
   "cell_type": "code",
   "execution_count": 55,
   "id": "3d5134e1",
   "metadata": {},
   "outputs": [
    {
     "data": {
      "text/plain": [
       "array([[24., 76.],\n",
       "       [35., 89.]])"
      ]
     },
     "execution_count": 55,
     "metadata": {},
     "output_type": "execute_result"
    }
   ],
   "source": [
    "matriz3"
   ]
  },
  {
   "cell_type": "code",
   "execution_count": 56,
   "id": "3ff15ae9",
   "metadata": {},
   "outputs": [
    {
     "data": {
      "text/plain": [
       "8"
      ]
     },
     "execution_count": 56,
     "metadata": {},
     "output_type": "execute_result"
    }
   ],
   "source": [
    "matriz3.itemsize"
   ]
  },
  {
   "cell_type": "code",
   "execution_count": 57,
   "id": "e18e5388",
   "metadata": {},
   "outputs": [
    {
     "data": {
      "text/plain": [
       "32"
      ]
     },
     "execution_count": 57,
     "metadata": {},
     "output_type": "execute_result"
    }
   ],
   "source": [
    "matriz3.nbytes"
   ]
  },
  {
   "cell_type": "code",
   "execution_count": 58,
   "id": "b95efa35",
   "metadata": {},
   "outputs": [
    {
     "data": {
      "text/plain": [
       "2"
      ]
     },
     "execution_count": 58,
     "metadata": {},
     "output_type": "execute_result"
    }
   ],
   "source": [
    "matriz3.ndim"
   ]
  },
  {
   "cell_type": "code",
   "execution_count": 59,
   "id": "0710c736",
   "metadata": {},
   "outputs": [
    {
     "data": {
      "text/plain": [
       "89.0"
      ]
     },
     "execution_count": 59,
     "metadata": {},
     "output_type": "execute_result"
    }
   ],
   "source": [
    "matriz3[1,1]"
   ]
  },
  {
   "cell_type": "code",
   "execution_count": 60,
   "id": "2b659211",
   "metadata": {},
   "outputs": [],
   "source": [
    "matriz3[1,1] = 100"
   ]
  },
  {
   "cell_type": "code",
   "execution_count": 61,
   "id": "a54c8e0e",
   "metadata": {},
   "outputs": [
    {
     "data": {
      "text/plain": [
       "array([[ 24.,  76.],\n",
       "       [ 35., 100.]])"
      ]
     },
     "execution_count": 61,
     "metadata": {},
     "output_type": "execute_result"
    }
   ],
   "source": [
    "matriz3"
   ]
  },
  {
   "cell_type": "markdown",
   "id": "24300bdc",
   "metadata": {},
   "source": [
    "### Usando o Método random() do NumPy"
   ]
  },
  {
   "cell_type": "code",
   "execution_count": 62,
   "id": "20f57f8b",
   "metadata": {},
   "outputs": [
    {
     "name": "stdout",
     "output_type": "stream",
     "text": [
      "[0.84764511 0.72180046 0.51404362 0.74733914 0.9070525  0.01546429\n",
      " 0.11928477 0.48655089 0.48035698 0.07879969]\n"
     ]
    }
   ],
   "source": [
    "print(np.random.rand(10))"
   ]
  },
  {
   "cell_type": "code",
   "execution_count": 63,
   "id": "4269355e",
   "metadata": {},
   "outputs": [
    {
     "name": "stderr",
     "output_type": "stream",
     "text": [
      "UsageError: unrecognized arguments: line\n"
     ]
    }
   ],
   "source": [
    "import matplotlib.pyplot as plt\n",
    "%matplotlib in line"
   ]
  },
  {
   "cell_type": "code",
   "execution_count": 64,
   "id": "f5c4c1fe",
   "metadata": {},
   "outputs": [
    {
     "name": "stdout",
     "output_type": "stream",
     "text": [
      "[0.70407819 0.52076379 0.9483445  0.35206463 0.26251606 0.84496229\n",
      " 0.38031288 0.83426073 0.26751775 0.44685449]\n"
     ]
    }
   ],
   "source": [
    "print(np.random.random(10))"
   ]
  },
  {
   "cell_type": "code",
   "execution_count": 65,
   "id": "aa876498",
   "metadata": {},
   "outputs": [
    {
     "data": {
      "image/png": "[encoded data removed]",
      "text/plain": [
       "<Figure size 640x480 with 1 Axes>"
      ]
     },
     "metadata": {},
     "output_type": "display_data"
    }
   ],
   "source": [
    "plt.show(plt.hist(np.random.rand(1000)))"
   ]
  },
  {
   "cell_type": "code",
   "execution_count": 66,
   "id": "83dc9fc0",
   "metadata": {
    "scrolled": false
   },
   "outputs": [
    {
     "name": "stdout",
     "output_type": "stream",
     "text": [
      "[ 7.55765455e-01 -3.72785121e-02 -7.85332661e-01  9.80556791e-01\n",
      "  6.12114403e-02 -7.16038115e-01 -7.30511758e-01 -9.30863814e-01\n",
      "  6.12885360e-01 -2.47867360e-01  1.14368614e+00 -2.65817464e-01\n",
      " -2.87854152e+00  8.44916327e-01  5.20971418e-01 -1.08383370e+00\n",
      "  4.31421576e-01 -5.49611159e-01  1.11894187e-01 -1.38612670e-01\n",
      "  1.13733657e+00 -8.30218799e-01  1.09624886e-01  2.12459298e-01\n",
      " -1.35363210e+00  4.49390749e-01 -2.49153529e+00  1.39961689e+00\n",
      "  1.04318585e-01  4.29668433e-01  2.52076029e-01  6.22610264e-01\n",
      " -7.17773458e-01 -2.27070188e-01  1.57623845e-02  1.37512454e-01\n",
      " -6.68014161e-01  1.29722119e+00 -1.19042365e+00 -5.37344068e-01\n",
      " -2.79982638e-01 -6.66317889e-02  6.88145184e-01 -4.84449472e-01\n",
      "  7.32189092e-01 -7.48775383e-01 -7.83159273e-01  1.50357853e+00\n",
      " -1.90954081e+00 -1.49988168e+00 -1.40881951e+00 -4.96096169e-01\n",
      "  6.17457536e-01 -2.06002155e+00 -3.65907344e-01  1.85489922e+00\n",
      " -1.12500130e+00  9.78707101e-01  3.96644874e-03 -9.88316525e-01\n",
      "  2.70629014e+00  2.63715802e-01 -4.86975766e-01 -2.33824251e-01\n",
      " -8.42972256e-01  5.79541035e-01  1.07955302e+00  4.60448757e-02\n",
      " -8.33390799e-01  1.11216694e+00 -4.35841989e-01 -1.19157664e+00\n",
      " -5.66917915e-01 -9.54441125e-01  8.84963728e-01 -1.56145700e+00\n",
      " -9.98897342e-01  1.21555930e+00  1.63760179e+00 -3.22454591e-01\n",
      " -1.60530258e+00 -8.72857805e-01 -2.67848914e-01 -2.52500373e-01\n",
      " -5.86946778e-02 -1.19170550e-01  1.04487269e+00  4.52034984e-01\n",
      "  3.35316474e-01 -9.13435261e-01 -6.14488934e-01  1.78387983e+00\n",
      " -1.55047588e+00  2.15528871e-02 -3.96918278e-01 -2.94665972e-01\n",
      " -2.25771374e-03  6.19323482e-01 -4.88112317e-01 -6.34624113e-01\n",
      " -4.40451422e-01  7.20019121e-01 -1.49300271e-01  5.85199311e-01\n",
      " -1.08269978e+00  1.53691709e-01 -2.49045992e+00  8.28994872e-01\n",
      " -8.32921695e-01 -6.82198090e-01 -9.57190168e-01  5.81327642e-01\n",
      "  1.60599465e-01  8.92298499e-01 -9.08442615e-01 -1.17307642e+00\n",
      " -2.74399634e-01 -1.67808160e-01 -2.97187816e-01 -5.51203513e-01\n",
      " -6.39424447e-01 -6.37200958e-01 -3.40294641e-01  1.34138241e-01\n",
      "  1.67707429e+00 -3.52133106e-01 -9.39901575e-01 -2.20934493e+00\n",
      "  1.32869609e+00 -2.09774145e-03  8.94580019e-01  3.73017603e-01\n",
      " -1.43688323e-01 -4.33952445e-02 -8.07783043e-01  1.26305057e+00\n",
      "  1.64997185e+00  1.75646481e+00 -4.03153134e-01  1.50520711e+00\n",
      "  2.45174192e-01 -1.41681725e+00  4.48861288e-01  4.57137701e-01\n",
      " -2.17585791e-01  3.54533416e-01 -1.28873291e+00  4.10023597e-01\n",
      " -3.89632152e-02 -4.96571346e-01  1.59312113e-01 -1.85666445e+00\n",
      "  1.79082105e+00  2.12189872e-01 -4.72824617e-01  2.43173979e-01\n",
      " -5.35704444e-01 -1.34487201e-02  1.05112585e+00  1.13429711e+00\n",
      "  1.26100866e+00  1.43142362e+00  8.65947236e-01 -1.14664392e+00\n",
      "  1.18881385e+00  6.13444140e-01  7.13543817e-01  3.25353981e-01\n",
      "  1.60130280e+00 -5.09883506e-01  8.65480149e-01  1.42746545e+00\n",
      " -6.73297781e-01  1.26626621e+00  1.04355919e+00 -2.52426826e-01\n",
      "  1.52484702e+00 -5.32295836e-01  1.78750798e+00 -4.10721233e-01\n",
      " -1.29445583e+00 -2.15378538e+00  1.36238861e-01 -4.71323707e-01\n",
      " -2.79854447e-01  5.43038263e-01  1.47474323e-01 -1.34539382e+00\n",
      " -1.62489387e+00  2.23542803e+00  8.94108737e-01  1.21371800e+00\n",
      " -9.23745707e-01 -1.39812448e+00  5.36845436e-01 -1.85184204e-01\n",
      "  1.39816132e-01 -7.61336648e-01  1.64634549e+00  6.41647862e-01\n",
      "  9.96626354e-01 -2.41245283e-01  7.93528933e-01 -4.10591237e-01\n",
      " -1.41878706e+00  8.87249369e-01  7.65394930e-01  1.91626434e+00\n",
      " -7.40345770e-01 -5.16280632e-01  3.04596827e-01 -9.46390105e-01\n",
      "  1.08847216e+00  3.23371931e-01 -1.20196456e+00 -5.81427351e-01\n",
      "  5.80110976e-01  9.85115170e-01  2.24897676e+00  7.32760887e-01\n",
      "  4.56961506e-01  2.15123790e-01 -1.91921133e+00  1.14040022e-01\n",
      "  2.01534341e-01  7.87871288e-01 -1.07997066e+00  4.70686604e-01\n",
      " -1.13278180e-01  3.85143402e-01  7.58108310e-01  1.41266219e+00\n",
      "  8.39135272e-01 -1.88228733e-01 -1.60216406e-01 -6.12422305e-01\n",
      " -2.31934303e-01  8.76363806e-01  1.12324589e-01 -3.40559112e-01\n",
      " -4.70142555e-01  1.06842775e+00 -1.44709041e-01  8.34292664e-01\n",
      " -4.18176438e-01  1.36019188e+00 -9.92065319e-01 -2.00644906e+00\n",
      " -6.67837471e-02  4.43027929e-01 -9.73940024e-01  2.41991775e+00\n",
      "  3.06894009e-01  5.91710884e-01 -1.80196890e+00  5.85452216e-01\n",
      " -3.42368502e-01  2.17797111e-01 -1.60561777e+00 -1.21780904e+00\n",
      " -6.38923418e-01 -1.13056633e+00 -7.89505906e-01 -3.30302411e-01\n",
      "  1.25683640e-01  2.88887055e+00 -9.78801974e-01  5.27881743e-02\n",
      " -1.40374336e-01 -5.81239948e-02 -1.38690799e+00  3.11168916e-01\n",
      " -8.92500066e-01 -5.30527802e-01  6.78691448e-01  3.85867425e-01\n",
      "  7.58642027e-01  5.05836898e-02 -1.08723268e+00 -7.38319788e-01\n",
      "  1.49342374e+00 -4.56676935e-01  3.77903907e-01  3.90396625e-01\n",
      "  1.69700443e-01 -7.76803488e-01  8.92454840e-01  5.63500786e-03\n",
      " -2.11856748e-01  1.48935975e+00  1.28628613e+00  3.80774801e-01\n",
      " -2.56493098e-02 -8.40678905e-03 -2.59499675e-01 -3.05685122e-01\n",
      " -1.10650432e+00 -1.75748210e+00 -2.10265563e+00 -2.39698597e-01\n",
      "  9.39243820e-02  1.39573533e+00  8.27697907e-01  2.71618994e-01\n",
      "  6.05736187e-01 -1.72115578e+00  7.98027456e-01  2.44878417e-02\n",
      " -1.71552204e+00 -6.28399875e-01 -1.01643448e-02  2.03036890e+00\n",
      "  1.44863497e+00  3.43684945e-01  1.12774385e-01  3.50646532e-01\n",
      "  3.59288639e-01  6.14873713e-01 -1.06248972e+00  7.23526046e-01\n",
      "  1.55540999e-01 -7.12264899e-01  8.90251023e-01 -1.24116515e+00\n",
      " -1.72913401e-01  8.42325142e-02 -5.77798071e-02  2.33607970e+00\n",
      "  9.65865790e-01 -2.30114311e-01  7.37966145e-01  2.87086887e-01\n",
      "  4.71964625e-02  6.08211187e-01 -2.21424555e-01 -9.52488176e-01\n",
      " -7.04362974e-01 -5.21289073e-01  1.57707508e-01 -1.38045106e+00\n",
      " -1.68431548e-01 -5.04224230e-01 -3.09884540e-01 -1.71419166e+00\n",
      " -7.99029598e-01 -1.34933649e+00 -1.35342416e+00 -8.23879009e-01\n",
      " -1.02705440e+00  8.28201965e-01 -9.14031235e-01  5.18853597e-01\n",
      "  7.56900019e-01  1.03951338e+00 -2.36357668e+00  3.49477607e-01\n",
      " -4.12969161e-01 -1.91255819e-01 -1.90011400e+00 -1.36998195e+00\n",
      " -3.22852122e-01 -2.63228711e+00  7.32546145e-01  2.22806657e+00\n",
      "  1.74284865e+00 -9.75553298e-02  1.22341336e+00  6.76369094e-01\n",
      " -4.67428386e-01 -8.43404523e-01  1.96949922e+00  1.06863998e+00\n",
      "  1.83696913e+00 -1.77699892e-01 -6.00189307e-01 -9.31269557e-01\n",
      "  1.95268802e-01  4.46371335e-01  8.87825454e-01 -9.70802656e-01\n",
      "  1.13006749e+00  4.41503231e-03  5.56934351e-01 -7.22700167e-01\n",
      " -7.98506913e-01  9.81118759e-01 -3.12741625e-01 -9.93907362e-01\n",
      "  9.50316053e-01  1.85349263e-01 -4.60250183e-01 -5.49272615e-01\n",
      "  1.52345742e+00 -1.05202470e+00 -4.06449692e-01  1.96390948e+00\n",
      " -9.84678573e-01 -4.44327522e-01  4.43116505e-01 -3.02518510e-01\n",
      " -1.53925562e+00 -5.81994843e-02  7.95502815e-01  9.30908634e-01\n",
      "  3.89095925e-01 -8.47939759e-01  8.86107836e-01 -9.12710997e-01\n",
      "  2.39816096e+00 -4.62222738e-01  1.31486441e+00  5.62889730e-01\n",
      " -8.06543082e-01  3.76082033e-01 -5.75101009e-02 -4.86012553e-01\n",
      "  2.56216180e-01 -1.47412111e+00 -2.15624875e-01  9.94140739e-01\n",
      "  1.35040244e+00  1.19005965e+00 -2.11850555e+00 -2.92147143e+00\n",
      "  5.84281199e-01  1.13136417e+00  7.41045716e-01  8.09668604e-01\n",
      "  3.19795295e-01  1.33492637e+00 -4.35022720e-01  2.61076055e+00\n",
      "  6.86320473e-01 -8.33032622e-01 -1.33490794e+00  8.47416928e-01\n",
      "  1.01349745e+00  3.47329823e+00  5.66084254e-01 -1.17511628e+00\n",
      " -1.33493750e-01  1.61249931e-01  4.64691085e-01 -4.39311019e-02\n",
      " -3.27102858e-01 -9.86387054e-01 -6.92000626e-01 -4.57095331e-01\n",
      "  6.21907423e-01 -1.02507035e-01  4.42637592e-01  2.07295673e+00\n",
      "  6.61836586e-01  1.03620352e-01  5.49931618e-01 -5.88506668e-01\n",
      " -1.33390066e+00 -2.92003108e-01 -4.65123011e-01 -8.21232031e-01\n",
      " -1.15385811e+00 -3.94822582e-02  7.47993871e-01 -9.03942361e-02\n",
      " -8.73357275e-01  5.17713171e-01 -4.61761902e-01  1.49226345e-02\n",
      " -3.51492723e-01 -9.19999122e-02  5.74614197e-02 -5.65401077e-01\n",
      " -4.83494145e-01 -9.03345645e-01  6.80663215e-01 -1.53690489e-01\n",
      " -3.76724440e-01 -4.37887210e-01 -1.07079079e+00  5.16339657e-01\n",
      "  1.78683769e+00 -7.78855664e-02 -8.45898303e-01  1.04519798e+00\n",
      "  5.35574754e-01  1.05236799e+00 -1.09266668e+00 -1.27967403e+00\n",
      "  1.59423701e-01  1.04824798e+00 -1.60719487e+00  1.12964774e+00\n",
      "  4.00761953e-01 -8.80919633e-01  7.93808752e-02 -5.59441917e-01\n",
      "  1.28804185e+00 -7.35291382e-01  1.85553939e+00  4.30541993e-01\n",
      "  6.69101539e-01  1.63871763e+00 -1.31610875e+00  2.35438328e+00\n",
      " -1.03966923e+00 -1.71250782e+00 -6.24041219e-01  2.24142845e-01\n",
      " -1.14175826e-01  3.44378962e-01 -6.22791405e-01  7.59743750e-03\n",
      " -4.20312001e-01 -1.27858134e+00  1.86229744e+00  1.17887555e+00\n",
      "  5.27349817e-01 -8.19444817e-01 -2.24246494e+00  5.53805230e-01\n",
      "  1.59277921e+00  5.74403478e-02  3.51415278e-01  3.38925175e-01\n",
      "  5.44797828e-01  2.13890820e-01  4.60191112e-01 -1.23373044e+00\n",
      " -4.36398230e-01 -4.02517676e-03 -4.67213640e-02  1.21345513e+00\n",
      " -1.68512236e+00 -3.09904872e-01  7.29372307e-01 -3.28232765e-01\n",
      " -1.50010362e+00  2.39487267e-01 -6.12838194e-01 -9.42030829e-02\n",
      "  1.55161456e+00  3.07700468e-01 -2.79290899e-01  7.03533238e-01\n",
      " -1.01032463e+00 -5.09930380e-01 -5.97630941e-01 -6.81067206e-01\n",
      "  6.93761848e-01 -1.91497212e-01 -2.79918881e+00  7.58582931e-01\n",
      "  1.37770290e-01 -6.36452396e-01  6.79914461e-01  1.67324288e+00\n",
      " -4.41507895e-01  3.75762849e-01 -9.24207824e-01 -6.67039609e-02\n",
      "  2.17126869e+00  5.51229980e-01 -5.44398981e-01  1.11720105e-01\n",
      "  5.69971362e-01 -1.37315330e+00 -8.12232700e-01  1.04777027e+00\n",
      "  1.20745660e+00 -1.30300917e+00  1.33156705e+00 -4.95719332e-01\n",
      " -4.94280115e-01  3.33652821e-01 -2.66146532e+00 -5.76138922e-01\n",
      " -9.36358329e-01  1.28685910e-01  2.02548314e-02 -2.00513249e+00\n",
      " -1.74427053e+00 -1.37728046e-01  1.11940094e+00  9.98793215e-02\n",
      " -2.91428819e-01 -3.38839032e-01  1.32405056e+00  1.94807229e+00\n",
      "  2.76704049e-01  1.49699907e+00  6.99380304e-01  5.86486324e-01\n",
      " -2.72569122e-01  1.44765091e+00  2.29310996e+00 -3.45155378e-01\n",
      "  1.31478526e-01  4.74747013e-01 -1.18610687e+00  1.32932425e-01\n",
      " -8.99710244e-01 -6.09656489e-02 -3.62011500e-01 -5.80830466e-01\n",
      "  1.24917258e+00  3.01275127e-01 -2.08943079e+00  1.23187817e+00\n",
      " -4.54559581e-02  3.36399283e-01  1.29458927e+00  9.46717176e-01\n",
      " -1.70338456e+00 -2.34280985e-01  7.17326858e-01  5.49782229e-01\n",
      "  2.48871663e-03  1.09667150e+00 -9.52219767e-02  1.39892928e-01\n",
      " -4.52281702e-02  6.37372953e-02 -5.24149774e-02 -6.21675553e-01\n",
      " -3.18441012e-01  6.13740701e-01  4.47006228e-02 -7.37035741e-01\n",
      "  1.16760593e-01 -3.38166990e+00 -5.91990855e-01 -9.89433958e-01\n",
      " -1.32808261e+00 -1.28608836e-01  1.21493604e+00 -2.56140189e+00\n",
      " -3.56415986e+00  5.46109532e-01 -3.80103057e-02  8.50282049e-01\n",
      " -7.61371617e-01  2.02911711e+00 -2.42900987e-01  1.07770855e-01\n",
      " -8.85973605e-01  3.93906292e-01 -4.00615499e-02  1.09377344e+00\n",
      "  1.07557960e+00 -4.95114862e-01  8.57796162e-01 -5.57678209e-02\n",
      " -1.16890552e+00  6.33232685e-01 -2.86278266e-01 -8.65216066e-01\n",
      "  4.69360519e-01 -7.47627855e-02 -7.79982768e-01  1.28244491e+00\n",
      "  6.38818972e-01  1.55661171e-01 -6.89961794e-01  1.68825793e+00\n",
      " -4.44986506e-01 -1.13072753e-01  9.59129508e-01  2.11579355e+00\n",
      " -5.11430719e-01 -1.61877083e-01  5.37762750e-01  7.95935239e-01\n",
      " -8.64980745e-01  1.49102723e+00  2.88898428e-01  4.36585038e-01\n",
      " -1.30801775e-01  1.67161803e-01  1.12355854e+00  5.24469901e-01\n",
      "  1.45750165e+00 -3.42931758e-01 -1.10160413e+00 -2.96420636e-01\n",
      "  7.42812736e-01 -2.14260015e-01  1.33450097e+00 -3.28007933e-01\n",
      "  9.90372454e-01 -1.06157914e-01 -5.03105337e-01 -4.84863745e-01\n",
      "  9.68292183e-01  9.30823884e-02 -4.36473372e-01  8.72740718e-01\n",
      "  2.24495043e-01 -6.65124559e-01  1.17564038e+00  6.68034181e-01\n",
      "  6.94264203e-01 -5.12366344e-01 -1.03683652e-01 -3.75936162e-01\n",
      " -9.46954462e-01  1.81781952e-01 -1.44958930e+00  3.84586660e-01\n",
      "  1.83004857e+00 -4.28878819e-01 -1.48596087e-01 -5.03747694e-01\n",
      "  9.99957583e-01 -1.22790107e+00  1.22358582e-01 -2.69237875e+00\n",
      "  9.78926487e-01  1.84780313e+00  1.01092570e+00  1.58285535e+00\n",
      "  1.80750363e+00 -2.08849922e-01  1.25118310e+00  1.67415873e-01\n",
      "  1.04311297e+00  7.39059967e-01  1.54172686e+00  5.07677555e-01\n",
      "  6.75190414e-01 -1.49696378e+00  2.33111370e-01 -4.13465359e-01\n",
      "  1.39351741e+00  2.20934668e-01  5.69045427e-01  1.36625139e-01\n",
      " -1.46424648e-01  2.12572223e+00 -5.24406959e-02 -1.35979159e+00\n",
      " -5.81098710e-01 -9.26621740e-01 -7.81569382e-01  5.76852880e-01\n",
      "  9.48557503e-01 -5.03259754e-01 -2.88710588e-01 -1.23368876e+00\n",
      " -3.46241949e-01  3.01526869e-01 -1.09735004e-01  5.51501163e-01\n",
      " -2.79276668e-01  8.97918769e-01 -1.30560891e-01  1.39231925e+00\n",
      " -3.98689409e-01 -4.58982552e-01  1.96127519e+00 -6.53777214e-01\n",
      "  6.22536563e-01 -1.16103600e+00  1.27745835e+00 -2.11473759e-01\n",
      " -3.00905864e-01  6.78175697e-01 -5.71356344e-01  1.93332322e+00\n",
      "  1.20527025e+00 -1.36785857e+00 -2.06536040e+00 -1.39149016e+00\n",
      "  8.13356409e-01  5.77458760e-01 -3.18093237e+00 -1.89418000e+00\n",
      " -1.69717185e+00  9.40555925e-01  1.52937610e-01 -4.07552956e-01\n",
      "  5.75698375e-02 -2.54535437e-02  4.89928371e-01 -3.12625644e-01\n",
      "  1.32740641e+00 -7.93926705e-02 -5.85653815e-02  8.63467138e-01\n",
      "  3.05089649e-01 -2.33591931e-01 -1.35556365e+00  7.05073665e-02\n",
      "  7.35049970e-01  8.01453849e-01  2.76288326e-01  3.57910899e-01\n",
      " -1.76694869e+00  2.17081176e-01  1.64468333e+00 -1.78436197e+00\n",
      " -1.15567911e+00  5.64488770e-01  1.01414822e+00  9.96829281e-01\n",
      "  3.42365666e+00  6.77698719e-01 -1.03575496e+00 -6.79470726e-01\n",
      "  4.14101412e-01 -9.85844756e-01  4.66150816e-01 -4.90149174e-02\n",
      " -4.67057879e-01  7.83963703e-02 -1.18294710e+00 -9.11761115e-01\n",
      "  7.96138741e-01 -1.41613859e-01  1.08362035e+00  9.45479445e-01\n",
      " -3.30480905e-01 -1.39080462e+00  6.61937161e-01 -5.25831671e-01\n",
      " -3.82236269e-01  1.92233824e+00  6.29642096e-02 -7.73946378e-02\n",
      "  5.23673115e-01  7.05239420e-01 -3.38573754e-01 -1.10262906e-01\n",
      "  3.49487556e-01 -4.64848936e-01 -4.23666848e-01  3.73860053e-01\n",
      "  1.76461648e-01 -5.25336125e-01 -1.96883833e+00 -2.55093659e-02\n",
      "  7.20144853e-01 -1.81446897e+00  6.85730730e-01  5.60024355e-02\n",
      " -5.22424814e-01 -1.01044732e+00 -5.25587916e-01 -1.15806711e+00\n",
      " -2.03442498e+00 -8.12963303e-02  2.07132813e+00 -5.66315561e-01\n",
      " -8.15599524e-01  1.66509042e+00  1.00637150e-01  2.33731060e-01\n",
      " -3.64483316e-02  8.54900426e-01  2.49346179e+00  1.03179222e-01\n",
      "  1.10343076e+00 -1.40565079e-01  3.64159227e-01 -2.71125966e-02\n",
      " -3.18570531e-01  5.15439265e-01 -5.52179381e-02  1.59516354e+00\n",
      "  3.21888384e-01  1.16487474e+00 -3.45922849e-01 -5.50975666e-01\n",
      " -6.48375517e-02 -3.04860404e-01 -5.47662491e-01  9.80842201e-01\n",
      " -1.70618429e+00  6.83292275e-01 -1.01632101e+00 -7.64599938e-01\n",
      " -6.99208171e-01  2.00332100e+00  1.30446882e+00  1.41286702e-01\n",
      " -8.13602532e-01 -1.63959320e+00  5.16945523e-01  2.45147361e-01\n",
      " -5.98927469e-01  2.48921679e-01 -1.94167309e+00 -1.59666044e+00\n",
      "  7.89615048e-01  7.24279998e-01 -2.01430367e+00 -1.39112916e+00\n",
      "  8.99466701e-01  1.24143533e+00 -3.35886395e-03 -1.45470324e+00\n",
      " -1.14443574e+00  2.24489089e+00 -2.24225778e+00  1.92852788e-01\n",
      "  4.95592920e-01  4.28765760e-01  2.21230434e-01  1.08744068e+00\n",
      "  1.13627656e+00  1.00668665e+00  5.52544244e-02  7.46653990e-02\n",
      " -4.02656535e-01 -5.92817688e-01 -1.48242958e+00 -4.69340139e-01\n",
      "  1.91850885e-01  1.58721143e-01  2.94838489e-02  3.81798739e-01\n",
      "  1.55882192e-01  4.94705223e-01 -1.06040824e+00  7.73806328e-01\n",
      " -9.53953414e-01 -1.85014402e+00 -8.93930149e-01  9.58279957e-01\n",
      "  7.42655797e-01  1.00055489e+00  2.63592732e+00  8.37829853e-01\n",
      " -1.17109025e+00  8.92876328e-01  7.55615745e-01  2.70368615e-01\n",
      " -4.43106974e-01  9.39466667e-03 -6.82689239e-01 -1.65571761e+00\n",
      " -8.46222386e-03  1.09286168e+00 -9.75351452e-01  5.82134792e-01\n",
      "  1.17560822e+00 -2.82929153e-01  1.04943461e+00  8.16392633e-01\n",
      " -9.65905925e-01  7.65661931e-01 -1.97116218e+00 -1.39824631e+00\n",
      "  8.90258632e-01  1.46836912e-01 -6.97154923e-02 -5.93243603e-01\n",
      "  1.48356566e+00 -9.96699410e-01  4.53807854e-02  1.05802205e+00\n",
      "  1.41035876e+00 -1.53533830e-01 -9.15046474e-01 -1.11361670e+00\n",
      "  3.79206434e-01  2.05298279e+00 -7.73688328e-01  1.00232689e+00\n",
      "  3.49439641e-02  5.16053580e-01 -1.75123263e-01  4.72876700e-01\n",
      "  1.49456560e+00 -4.96121778e-01  2.55044882e+00 -7.15183432e-01\n",
      " -1.17147697e-01 -6.48952300e-01 -1.53290183e-01 -6.52523756e-02\n",
      " -2.32245517e-01 -2.10470657e+00 -1.30019066e+00 -2.81764112e-01\n",
      "  1.67635114e+00 -6.17559919e-01 -1.46659535e+00 -3.87858028e-01\n",
      " -1.38813683e-01 -9.70944941e-01  8.15176712e-01  9.41538830e-01\n",
      "  7.79539822e-01  4.20103471e-01 -8.45146281e-01 -9.79811297e-01\n",
      " -8.35106925e-01 -1.21648249e+00 -1.45276415e+00  2.19038935e-01]\n"
     ]
    }
   ],
   "source": [
    "print(np.random.randn(1000))"
   ]
  },
  {
   "cell_type": "code",
   "execution_count": 67,
   "id": "031956a1",
   "metadata": {},
   "outputs": [
    {
     "data": {
      "image/png": "[encoded data removed]",
      "text/plain": [
       "<Figure size 640x480 with 1 Axes>"
      ]
     },
     "metadata": {},
     "output_type": "display_data"
    }
   ],
   "source": [
    "plt.show(plt.hist(np.random.randn(1000)))"
   ]
  },
  {
   "cell_type": "code",
   "execution_count": 68,
   "id": "ecae3f9b",
   "metadata": {},
   "outputs": [
    {
     "data": {
      "text/plain": [
       "<matplotlib.colorbar.Colorbar at 0x7fe8c3cac400>"
      ]
     },
     "execution_count": 68,
     "metadata": {},
     "output_type": "execute_result"
    },
    {
     "data": {
      "image/png": "[encoded data removed]",
      "text/plain": [
       "<Figure size 640x480 with 2 Axes>"
      ]
     },
     "metadata": {},
     "output_type": "display_data"
    }
   ],
   "source": [
    "imagem = np.random.rand(30,30)\n",
    "plt.imshow(imagem, cmap = plt.cm.hot)\n",
    "plt.colorbar()"
   ]
  },
  {
   "cell_type": "markdown",
   "id": "45c579f4",
   "metadata": {},
   "source": [
    "### Operações com datasets"
   ]
  },
  {
   "cell_type": "code",
   "execution_count": 69,
   "id": "dd353c46",
   "metadata": {},
   "outputs": [],
   "source": [
    "import os\n",
    "filename = os.path.join('iris.csv')"
   ]
  },
  {
   "cell_type": "code",
   "execution_count": 70,
   "id": "e1067891",
   "metadata": {},
   "outputs": [
    {
     "name": "stdout",
     "output_type": "stream",
     "text": [
      "sepal_length,sepal_width,petal_length,petal_width,species\r\n",
      "5.1,3.5,1.4,0.2,setosa\r\n",
      "4.9,3,1.4,0.2,setosa\r\n",
      "4.7,3.2,1.3,0.2,setosa\r\n",
      "4.6,3.1,1.5,0.2,setosa\r\n",
      "5,3.6,1.4,0.2,setosa\r\n",
      "5.4,3.9,1.7,0.4,setosa\r\n",
      "4.6,3.4,1.4,0.3,setosa\r\n",
      "5,3.4,1.5,0.2,setosa\r\n",
      "4.4,2.9,1.4,0.2,setosa\r\n"
     ]
    }
   ],
   "source": [
    "# No Windows use !more iris.csv. Mac ou Linux use !head iris.csv\n",
    "#!more iris.csv\n",
    "!head iris.csv"
   ]
  },
  {
   "cell_type": "code",
   "execution_count": 71,
   "id": "6199cff9",
   "metadata": {},
   "outputs": [],
   "source": [
    "# Carregando um dataset para dentro de um array\n",
    "arquivo = np.loadtxt(filename, delimiter=',', usecols=(0,1,2,3), skiprows=1)"
   ]
  },
  {
   "cell_type": "code",
   "execution_count": 72,
   "id": "3753ef15",
   "metadata": {},
   "outputs": [
    {
     "data": {
      "text/plain": [
       "numpy.ndarray"
      ]
     },
     "execution_count": 72,
     "metadata": {},
     "output_type": "execute_result"
    }
   ],
   "source": [
    "type(arquivo)"
   ]
  },
  {
   "cell_type": "code",
   "execution_count": 73,
   "id": "7a3681b2",
   "metadata": {},
   "outputs": [
    {
     "data": {
      "image/png": "[encoded data removed]",
      "text/plain": [
       "<Figure size 640x480 with 1 Axes>"
      ]
     },
     "metadata": {},
     "output_type": "display_data"
    }
   ],
   "source": [
    "# Gerando um plot a partir de um arquivo usando NumPy\n",
    "var1, var2 = np.loadtxt(filename, delimiter=',', usecols=(0,1), skiprows=1, unpack=1)\n",
    "plt.show(plt.plot(var1, var2, 'o', markersize=8, alpha=0.75))"
   ]
  },
  {
   "cell_type": "markdown",
   "id": "375c5469",
   "metadata": {},
   "source": [
    "### Estatísticas"
   ]
  },
  {
   "cell_type": "code",
   "execution_count": 74,
   "id": "a8e79e20",
   "metadata": {},
   "outputs": [],
   "source": [
    "# Criando um array\n",
    "A = np.array([15,23,63, 94, 75])"
   ]
  },
  {
   "cell_type": "code",
   "execution_count": 75,
   "id": "b7b3afdd",
   "metadata": {},
   "outputs": [
    {
     "data": {
      "text/plain": [
       "54.0"
      ]
     },
     "execution_count": 75,
     "metadata": {},
     "output_type": "execute_result"
    }
   ],
   "source": [
    "# EN estatística a mmédia pe o valor que aponta para onde mais se concentram os dados de uma distribuição.\n",
    "np.mean(A)"
   ]
  },
  {
   "cell_type": "code",
   "execution_count": 76,
   "id": "cf39a803",
   "metadata": {},
   "outputs": [
    {
     "data": {
      "text/plain": [
       "30.34468652004828"
      ]
     },
     "execution_count": 76,
     "metadata": {},
     "output_type": "execute_result"
    }
   ],
   "source": [
    "# O desvio padrão mostra o quanto de variação ou dispersão existe em\n",
    "# relação à média (ou valor esperado).\n",
    "# Um baixo desvio padrão indica que os dados tendem a estar pŕóximos da média.\n",
    "# Um desvio padrão alto indica que os dados estão esplahado por uma gama de valores\n",
    "np.std(A)"
   ]
  },
  {
   "cell_type": "code",
   "execution_count": 77,
   "id": "c8a03b69",
   "metadata": {},
   "outputs": [
    {
     "data": {
      "text/plain": [
       "920.8"
      ]
     },
     "execution_count": 77,
     "metadata": {},
     "output_type": "execute_result"
    }
   ],
   "source": [
    "# Variância de uma váriavl aleatória é uma medida de sua dispersão \n",
    "# estatistica, indicando \"o quão oonge em egral os seus valores se\"\n",
    "# encontram do valor esperado\n",
    "np.var(A)"
   ]
  },
  {
   "cell_type": "code",
   "execution_count": 78,
   "id": "e96d724f",
   "metadata": {},
   "outputs": [],
   "source": [
    "d = np.arange(1,10)"
   ]
  },
  {
   "cell_type": "code",
   "execution_count": 79,
   "id": "24a20357",
   "metadata": {},
   "outputs": [
    {
     "data": {
      "text/plain": [
       "array([1, 2, 3, 4, 5, 6, 7, 8, 9])"
      ]
     },
     "execution_count": 79,
     "metadata": {},
     "output_type": "execute_result"
    }
   ],
   "source": [
    "d"
   ]
  },
  {
   "cell_type": "code",
   "execution_count": 80,
   "id": "76353b11",
   "metadata": {},
   "outputs": [
    {
     "data": {
      "text/plain": [
       "45"
      ]
     },
     "execution_count": 80,
     "metadata": {},
     "output_type": "execute_result"
    }
   ],
   "source": [
    "np.sum(d)"
   ]
  },
  {
   "cell_type": "code",
   "execution_count": 81,
   "id": "71cc5352",
   "metadata": {},
   "outputs": [
    {
     "data": {
      "text/plain": [
       "362880"
      ]
     },
     "execution_count": 81,
     "metadata": {},
     "output_type": "execute_result"
    }
   ],
   "source": [
    "np.prod(d)"
   ]
  },
  {
   "cell_type": "code",
   "execution_count": 82,
   "id": "373ccced",
   "metadata": {},
   "outputs": [
    {
     "data": {
      "text/plain": [
       "array([ 1,  3,  6, 10, 15, 21, 28, 36, 45])"
      ]
     },
     "execution_count": 82,
     "metadata": {},
     "output_type": "execute_result"
    }
   ],
   "source": [
    "# Soma acumulado dos elementos\n",
    "np.cumsum(d)"
   ]
  },
  {
   "cell_type": "code",
   "execution_count": 83,
   "id": "a6915ec9",
   "metadata": {},
   "outputs": [
    {
     "name": "stdout",
     "output_type": "stream",
     "text": [
      "[-0.03083118  0.00973033] (2,)\n"
     ]
    }
   ],
   "source": [
    "a = np.random.randn(400,2)\n",
    "m = a.mean(0)\n",
    "print(m, m.shape)"
   ]
  },
  {
   "cell_type": "code",
   "execution_count": 84,
   "id": "9e36a3ac",
   "metadata": {},
   "outputs": [
    {
     "data": {
      "text/plain": [
       "<function matplotlib.pyplot.show(close=None, block=None)>"
      ]
     },
     "execution_count": 84,
     "metadata": {},
     "output_type": "execute_result"
    },
    {
     "data": {
      "image/png": "[encoded data removed]",
      "text/plain": [
       "<Figure size 640x480 with 1 Axes>"
      ]
     },
     "metadata": {},
     "output_type": "display_data"
    }
   ],
   "source": [
    "plt.plot(a[:,0], a[:,1], 'o', markersize=5, alpha=0.50)\n",
    "plt.plot(m[0], m[1], 'ro', markersize=10)\n",
    "plt.show"
   ]
  },
  {
   "cell_type": "markdown",
   "id": "1dd93d9b",
   "metadata": {},
   "source": [
    "### Outras Operações com Arrays"
   ]
  },
  {
   "cell_type": "code",
   "execution_count": 95,
   "id": "58e21282",
   "metadata": {},
   "outputs": [],
   "source": [
    "# Slicing\n",
    "a = np.diag(np.arange(3))"
   ]
  },
  {
   "cell_type": "code",
   "execution_count": 96,
   "id": "1398cc58",
   "metadata": {},
   "outputs": [
    {
     "data": {
      "text/plain": [
       "array([[0, 0, 0],\n",
       "       [0, 1, 0],\n",
       "       [0, 0, 2]])"
      ]
     },
     "execution_count": 96,
     "metadata": {},
     "output_type": "execute_result"
    }
   ],
   "source": [
    "a"
   ]
  },
  {
   "cell_type": "code",
   "execution_count": 97,
   "id": "b901cb10",
   "metadata": {},
   "outputs": [
    {
     "data": {
      "text/plain": [
       "1"
      ]
     },
     "execution_count": 97,
     "metadata": {},
     "output_type": "execute_result"
    }
   ],
   "source": [
    "a[1,1]"
   ]
  },
  {
   "cell_type": "code",
   "execution_count": 98,
   "id": "3e0d3c27",
   "metadata": {},
   "outputs": [
    {
     "data": {
      "text/plain": [
       "array([0, 1, 0])"
      ]
     },
     "execution_count": 98,
     "metadata": {},
     "output_type": "execute_result"
    }
   ],
   "source": [
    "a[1]"
   ]
  },
  {
   "cell_type": "code",
   "execution_count": 99,
   "id": "e727b001",
   "metadata": {},
   "outputs": [],
   "source": [
    "b = np.arange(10)"
   ]
  },
  {
   "cell_type": "code",
   "execution_count": 100,
   "id": "c4023479",
   "metadata": {},
   "outputs": [
    {
     "data": {
      "text/plain": [
       "array([0, 1, 2, 3, 4, 5, 6, 7, 8, 9])"
      ]
     },
     "execution_count": 100,
     "metadata": {},
     "output_type": "execute_result"
    }
   ],
   "source": [
    "b"
   ]
  },
  {
   "cell_type": "code",
   "execution_count": 101,
   "id": "563f45ec",
   "metadata": {},
   "outputs": [
    {
     "data": {
      "text/plain": [
       "array([2, 5, 8])"
      ]
     },
     "execution_count": 101,
     "metadata": {},
     "output_type": "execute_result"
    }
   ],
   "source": [
    "# [start:;end:step]\n",
    "b[2:9:3]"
   ]
  },
  {
   "cell_type": "code",
   "execution_count": 103,
   "id": "c7cf5003",
   "metadata": {},
   "outputs": [
    {
     "data": {
      "text/plain": [
       "array([False,  True, False,  True])"
      ]
     },
     "execution_count": 103,
     "metadata": {},
     "output_type": "execute_result"
    }
   ],
   "source": [
    "# Comparação\n",
    "a = np.array([1,2,3,4])\n",
    "b = np.array([4,2,2,4])\n",
    "a == b"
   ]
  },
  {
   "cell_type": "code",
   "execution_count": 104,
   "id": "a17e22de",
   "metadata": {},
   "outputs": [
    {
     "data": {
      "text/plain": [
       "False"
      ]
     },
     "execution_count": 104,
     "metadata": {},
     "output_type": "execute_result"
    }
   ],
   "source": [
    "np.array_equal(a,b)"
   ]
  },
  {
   "cell_type": "code",
   "execution_count": 105,
   "id": "612a492a",
   "metadata": {},
   "outputs": [
    {
     "data": {
      "text/plain": [
       "1"
      ]
     },
     "execution_count": 105,
     "metadata": {},
     "output_type": "execute_result"
    }
   ],
   "source": [
    "a.min()"
   ]
  },
  {
   "cell_type": "code",
   "execution_count": 106,
   "id": "5ccbfe9f",
   "metadata": {},
   "outputs": [
    {
     "data": {
      "text/plain": [
       "4"
      ]
     },
     "execution_count": 106,
     "metadata": {},
     "output_type": "execute_result"
    }
   ],
   "source": [
    "a.max()"
   ]
  },
  {
   "cell_type": "code",
   "execution_count": 107,
   "id": "c2cfe220",
   "metadata": {},
   "outputs": [
    {
     "data": {
      "text/plain": [
       "array([2.5, 3.5, 4.5])"
      ]
     },
     "execution_count": 107,
     "metadata": {},
     "output_type": "execute_result"
    }
   ],
   "source": [
    "# Somando um elemento ao array\n",
    "np.array([1,2,3]) + 1.5"
   ]
  },
  {
   "cell_type": "code",
   "execution_count": 108,
   "id": "d2c42121",
   "metadata": {},
   "outputs": [],
   "source": [
    "# Usando o método around\n",
    "a = np.around([1.2,1.5,1.6,2.5,3.5,4.5])"
   ]
  },
  {
   "cell_type": "code",
   "execution_count": 109,
   "id": "d7e15dbf",
   "metadata": {},
   "outputs": [],
   "source": [
    "b = np.around(a)"
   ]
  },
  {
   "cell_type": "code",
   "execution_count": 110,
   "id": "6013ea43",
   "metadata": {},
   "outputs": [
    {
     "data": {
      "text/plain": [
       "array([1., 2., 2., 2., 4., 4.])"
      ]
     },
     "execution_count": 110,
     "metadata": {},
     "output_type": "execute_result"
    }
   ],
   "source": [
    "b"
   ]
  },
  {
   "cell_type": "code",
   "execution_count": 111,
   "id": "5d27e608",
   "metadata": {},
   "outputs": [],
   "source": [
    "# Criando um array\n",
    "B = np.array([1,2,3,4])"
   ]
  },
  {
   "cell_type": "code",
   "execution_count": 112,
   "id": "643f0c10",
   "metadata": {},
   "outputs": [
    {
     "data": {
      "text/plain": [
       "array([1, 2, 3, 4])"
      ]
     },
     "execution_count": 112,
     "metadata": {},
     "output_type": "execute_result"
    }
   ],
   "source": [
    "B"
   ]
  },
  {
   "cell_type": "code",
   "execution_count": 113,
   "id": "23c5479e",
   "metadata": {},
   "outputs": [],
   "source": [
    "# Copiando um array\n",
    "C = B.flatten()"
   ]
  },
  {
   "cell_type": "code",
   "execution_count": 114,
   "id": "1e935168",
   "metadata": {},
   "outputs": [
    {
     "data": {
      "text/plain": [
       "array([1, 2, 3, 4])"
      ]
     },
     "execution_count": 114,
     "metadata": {},
     "output_type": "execute_result"
    }
   ],
   "source": [
    "C"
   ]
  },
  {
   "cell_type": "code",
   "execution_count": 115,
   "id": "8638bb8b",
   "metadata": {},
   "outputs": [],
   "source": [
    "# Criando um array\n",
    "v = np.array([1,2,3])"
   ]
  },
  {
   "cell_type": "code",
   "execution_count": 116,
   "id": "3d7f816c",
   "metadata": {},
   "outputs": [
    {
     "data": {
      "text/plain": [
       "(array([[1],\n",
       "        [2],\n",
       "        [3]]),\n",
       " (3, 1),\n",
       " (1, 3))"
      ]
     },
     "execution_count": 116,
     "metadata": {},
     "output_type": "execute_result"
    }
   ],
   "source": [
    "# Adicionando uma dimensão ao array\n",
    "v[:, np.newaxis], v[:,np.newaxis].shape, v[np.newaxis,:].shape"
   ]
  },
  {
   "cell_type": "code",
   "execution_count": 117,
   "id": "ff277b9f",
   "metadata": {},
   "outputs": [
    {
     "data": {
      "text/plain": [
       "array([1, 1, 1, 2, 2, 2, 3, 3, 3])"
      ]
     },
     "execution_count": 117,
     "metadata": {},
     "output_type": "execute_result"
    }
   ],
   "source": [
    "# Repetindo os elementos de um array\n",
    "np.repeat(v,3)"
   ]
  },
  {
   "cell_type": "code",
   "execution_count": 118,
   "id": "48bc3791",
   "metadata": {},
   "outputs": [
    {
     "data": {
      "text/plain": [
       "array([1, 2, 3, 1, 2, 3, 1, 2, 3])"
      ]
     },
     "execution_count": 118,
     "metadata": {},
     "output_type": "execute_result"
    }
   ],
   "source": [
    "# Repetindo os elementos de um array\n",
    "np.tile(v,3)"
   ]
  },
  {
   "cell_type": "code",
   "execution_count": 119,
   "id": "5b363991",
   "metadata": {},
   "outputs": [],
   "source": [
    "# Criando um array\n",
    "w = np.array([5,6])"
   ]
  },
  {
   "cell_type": "code",
   "execution_count": 120,
   "id": "104c1628",
   "metadata": {},
   "outputs": [
    {
     "data": {
      "text/plain": [
       "array([1, 2, 3, 5, 6])"
      ]
     },
     "execution_count": 120,
     "metadata": {},
     "output_type": "execute_result"
    }
   ],
   "source": [
    "# Concatenando um array\n",
    "np.concatenate((v,w), axis=0)"
   ]
  },
  {
   "cell_type": "code",
   "execution_count": 121,
   "id": "d04f4241",
   "metadata": {},
   "outputs": [],
   "source": [
    "# Copiando arrays\n",
    "r = np.copy(v)"
   ]
  },
  {
   "cell_type": "code",
   "execution_count": 122,
   "id": "63539ba5",
   "metadata": {},
   "outputs": [
    {
     "data": {
      "text/plain": [
       "array([1, 2, 3])"
      ]
     },
     "execution_count": 122,
     "metadata": {},
     "output_type": "execute_result"
    }
   ],
   "source": [
    "r"
   ]
  },
  {
   "cell_type": "markdown",
   "id": "056b0cda",
   "metadata": {},
   "source": [
    "## Fim"
   ]
  }
 ],
 "metadata": {
  "kernelspec": {
   "display_name": "Python 3 (ipykernel)",
   "language": "python",
   "name": "python3"
  },
  "language_info": {
   "codemirror_mode": {
    "name": "ipython",
    "version": 3
   },
   "file_extension": ".py",
   "mimetype": "text/x-python",
   "name": "python",
   "nbconvert_exporter": "python",
   "pygments_lexer": "ipython3",
   "version": "3.9.13"
  }
 },
 "nbformat": 4,
 "nbformat_minor": 5
}
