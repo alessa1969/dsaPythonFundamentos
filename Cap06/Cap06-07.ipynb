{
 "cells": [
  {
   "cell_type": "markdown",
   "id": "b6ff9ff5",
   "metadata": {},
   "source": [
    "## <font color = 'blue'> Data Science Academy - Python Fundamentos - Capítulo 6"
   ]
  },
  {
   "cell_type": "markdown",
   "id": "7ec46a94",
   "metadata": {},
   "source": [
    "### Gravando Dados no MongoDB com PyMongo"
   ]
  },
  {
   "cell_type": "code",
   "execution_count": 21,
   "id": "e9b57604",
   "metadata": {},
   "outputs": [
    {
     "name": "stdout",
     "output_type": "stream",
     "text": [
      "Defaulting to user installation because normal site-packages is not writeable\n",
      "Requirement already satisfied: pymongo in c:\\users\\aless\\appdata\\roaming\\python\\python311\\site-packages (4.3.3)\n",
      "Requirement already satisfied: dnspython<3.0.0,>=1.16.0 in c:\\users\\aless\\appdata\\roaming\\python\\python311\\site-packages (from pymongo) (2.2.1)\n"
     ]
    }
   ],
   "source": [
    "!pip install pymongo"
   ]
  },
  {
   "cell_type": "code",
   "execution_count": 22,
   "id": "1459fc13",
   "metadata": {},
   "outputs": [],
   "source": [
    "# Importamos o MongoClient para conectar com aplicação ao MongoDB\n",
    "from pymongo import MongoClient"
   ]
  },
  {
   "cell_type": "code",
   "execution_count": 23,
   "id": "975e4fd6",
   "metadata": {},
   "outputs": [],
   "source": [
    "# Estebelecemos a conexão ao Banco de Dados\n",
    "conn = MongoClient('localhost', 27017)"
   ]
  },
  {
   "cell_type": "code",
   "execution_count": 24,
   "id": "23ed9496",
   "metadata": {},
   "outputs": [
    {
     "data": {
      "text/plain": [
       "pymongo.mongo_client.MongoClient"
      ]
     },
     "execution_count": 24,
     "metadata": {},
     "output_type": "execute_result"
    }
   ],
   "source": [
    "type(conn)"
   ]
  },
  {
   "cell_type": "code",
   "execution_count": 25,
   "id": "ea6664a8",
   "metadata": {},
   "outputs": [],
   "source": [
    "# Uma única instancia do MongoDB pode suportar diversos banco de dados.\n",
    "# Vamos criar o bando de dados cadastrodb\n",
    "db = conn.cadastrodb"
   ]
  },
  {
   "cell_type": "code",
   "execution_count": 26,
   "id": "a8f902a4",
   "metadata": {},
   "outputs": [
    {
     "data": {
      "text/plain": [
       "pymongo.database.Database"
      ]
     },
     "execution_count": 26,
     "metadata": {},
     "output_type": "execute_result"
    }
   ],
   "source": [
    "type(db)"
   ]
  },
  {
   "cell_type": "code",
   "execution_count": 27,
   "id": "e6b7d428",
   "metadata": {},
   "outputs": [],
   "source": [
    "# Uma coleção é um grupo de documentos armazenados no MongoDB\n",
    "# (relativamente parecidos com o conceito de tabelas em bancos relacionais)\n",
    "collection = db.cadastrodb"
   ]
  },
  {
   "cell_type": "code",
   "execution_count": 28,
   "id": "7db0209e",
   "metadata": {},
   "outputs": [
    {
     "data": {
      "text/plain": [
       "pymongo.collection.Collection"
      ]
     },
     "execution_count": 28,
     "metadata": {},
     "output_type": "execute_result"
    }
   ],
   "source": [
    "type(collection)"
   ]
  },
  {
   "cell_type": "markdown",
   "id": "c4ce97ec",
   "metadata": {},
   "source": [
    "Uma nota importante sobre coleções (e banco de dados) em MongoDB é que eles são criados posteriormente - nenhum dos comandos \n",
    "executou efetivamanete qualquer operação no servidor MongoDB. Coleções e bancos de dados são criados quando o primeiro documento\n",
    "é inserido."
   ]
  },
  {
   "cell_type": "code",
   "execution_count": 29,
   "id": "a487dcc0",
   "metadata": {},
   "outputs": [],
   "source": [
    "import datetime"
   ]
  },
  {
   "cell_type": "markdown",
   "id": "0e521a7c",
   "metadata": {},
   "source": [
    "Dados no MongoDB são representados e armazenados usando JSON (Java Script Object Notation). Com o PyMongo usamos dicionarios para representar documentos."
   ]
  },
  {
   "cell_type": "code",
   "execution_count": 30,
   "id": "2d8f2a29",
   "metadata": {},
   "outputs": [],
   "source": [
    "post1 = {\"código\": \"ID-9987725\",\n",
    "        \"prod_name\": \"Geladeira\",\n",
    "        \"marcas\": [\"brastemp\", \"consul\",\"electrolux\"],\n",
    "        \"data_cadastro\": datetime.datetime.utcnow()}"
   ]
  },
  {
   "cell_type": "code",
   "execution_count": 31,
   "id": "4bd60312",
   "metadata": {},
   "outputs": [
    {
     "data": {
      "text/plain": [
       "dict"
      ]
     },
     "execution_count": 31,
     "metadata": {},
     "output_type": "execute_result"
    }
   ],
   "source": [
    "type(post1)"
   ]
  },
  {
   "cell_type": "code",
   "execution_count": null,
   "id": "50c9c472",
   "metadata": {},
   "outputs": [],
   "source": [
    "collection = db.posts"
   ]
  },
  {
   "cell_type": "code",
   "execution_count": null,
   "id": "05f76778",
   "metadata": {},
   "outputs": [],
   "source": [
    "post_id = collection.insert_one(post1)"
   ]
  },
  {
   "cell_type": "code",
   "execution_count": null,
   "id": "000f8c66",
   "metadata": {},
   "outputs": [],
   "source": [
    "# Quando um documento é inserio uma chave especial, \"_id\", é adicionada\n",
    "# autmoaticamente se o documento ainda não contém uma chave \"_id\"\n",
    "post_id"
   ]
  },
  {
   "cell_type": "code",
   "execution_count": 32,
   "id": "4a3dac01",
   "metadata": {},
   "outputs": [],
   "source": [
    "post2 = {\"codigo\": \"ID2209876\",\n",
    "        \"prod_name\": \"Televisor\",\n",
    "        \"marcas\": [\"samsung\", \"panasonic\", \"lg\"],\n",
    "        \"data_cadastro\": datetime.datetime.utcnow()}"
   ]
  },
  {
   "cell_type": "code",
   "execution_count": 33,
   "id": "36f1552a",
   "metadata": {},
   "outputs": [],
   "source": [
    "collection = db.posts"
   ]
  },
  {
   "cell_type": "code",
   "execution_count": 34,
   "id": "a84939a7",
   "metadata": {},
   "outputs": [],
   "source": [
    "post_id = collection.insert_one(post2).inserted_id"
   ]
  },
  {
   "cell_type": "code",
   "execution_count": 35,
   "id": "cb2e8751",
   "metadata": {},
   "outputs": [
    {
     "data": {
      "text/plain": [
       "{'_id': ObjectId('63b315c62580f5a07fd6000d'),\n",
       " 'codigo': 'ID2209876',\n",
       " 'prod_name': 'Televisor',\n",
       " 'marcas': ['samsung', 'panasonic', 'lg'],\n",
       " 'data_cadastro': datetime.datetime(2023, 1, 2, 17, 33, 49, 862000)}"
      ]
     },
     "execution_count": 35,
     "metadata": {},
     "output_type": "execute_result"
    }
   ],
   "source": [
    "collection.find_one({\"prod_name\": \"Televisor\"})"
   ]
  },
  {
   "cell_type": "code",
   "execution_count": 36,
   "id": "d4b1a8d4",
   "metadata": {},
   "outputs": [
    {
     "name": "stdout",
     "output_type": "stream",
     "text": [
      "{'_id': ObjectId('63b313972580f5a07fd6000c'), 'código': 'ID-9987725', 'prod_name': 'Geladeira', 'marcas': ['brastemp', 'consul', 'electrolux'], 'data_cadastro': datetime.datetime(2023, 1, 2, 17, 24, 34, 366000)}\n",
      "{'_id': ObjectId('63b315c62580f5a07fd6000d'), 'codigo': 'ID2209876', 'prod_name': 'Televisor', 'marcas': ['samsung', 'panasonic', 'lg'], 'data_cadastro': datetime.datetime(2023, 1, 2, 17, 33, 49, 862000)}\n",
      "{'_id': ObjectId('63b3165c2580f5a07fd6000f'), 'codigo': 'ID2209876', 'prod_name': 'Televisor', 'marcas': ['samsung', 'panasonic', 'lg'], 'data_cadastro': datetime.datetime(2023, 1, 2, 17, 37, 26, 365000)}\n"
     ]
    }
   ],
   "source": [
    "# A função find() retorna um cursos e podemos então navegar pelos dados\n",
    "for post in collection.find():\n",
    "    print(post)"
   ]
  },
  {
   "cell_type": "code",
   "execution_count": 40,
   "id": "5d1aeff1",
   "metadata": {},
   "outputs": [
    {
     "data": {
      "text/plain": [
       "'cadastrodb'"
      ]
     },
     "execution_count": 40,
     "metadata": {},
     "output_type": "execute_result"
    }
   ],
   "source": [
    "# Verificando o nome do banco de dados\n",
    "db.name"
   ]
  },
  {
   "cell_type": "code",
   "execution_count": 44,
   "id": "cdbea288",
   "metadata": {},
   "outputs": [
    {
     "data": {
      "text/plain": [
       "['posts']"
      ]
     },
     "execution_count": 44,
     "metadata": {},
     "output_type": "execute_result"
    }
   ],
   "source": [
    "# Listando as coleções disponíveis\n",
    "db.list_collection_names()"
   ]
  },
  {
   "cell_type": "markdown",
   "id": "cb775d67",
   "metadata": {},
   "source": [
    "## Fim"
   ]
  }
 ],
 "metadata": {
  "kernelspec": {
   "display_name": "Python 3 (ipykernel)",
   "language": "python",
   "name": "python3"
  },
  "language_info": {
   "codemirror_mode": {
    "name": "ipython",
    "version": 3
   },
   "file_extension": ".py",
   "mimetype": "text/x-python",
   "name": "python",
   "nbconvert_exporter": "python",
   "pygments_lexer": "ipython3",
   "version": "3.11.1"
  }
 },
 "nbformat": 4,
 "nbformat_minor": 5
}
