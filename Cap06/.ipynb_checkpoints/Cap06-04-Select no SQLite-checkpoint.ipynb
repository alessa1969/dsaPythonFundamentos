{
 "cells": [
  {
   "cell_type": "markdown",
   "id": "5486f06e",
   "metadata": {},
   "source": [
    "## <font color = 'blue'> Data Science Academy - Python Fundamentos - Capítulo 6"
   ]
  },
  {
   "cell_type": "markdown",
   "id": "2b84177c",
   "metadata": {},
   "source": [
    "## Leitura de Dados"
   ]
  },
  {
   "cell_type": "code",
   "execution_count": 3,
   "id": "45fd452c",
   "metadata": {},
   "outputs": [],
   "source": [
    "import sqlite3\n",
    "import random\n",
    "import time\n",
    "import datetime\n",
    "\n",
    "# Criando uma conexão\n",
    "conn = sqlite3.connect('dsa.db')\n",
    "\n",
    "# Criando o cursos\n",
    "c = conn.cursor()\n",
    "\n",
    "# Função para criar tabela\n",
    "def create_table():\n",
    "    c.execute('CREATE TABLE IF NOT EXISTS produtos(id INTEGER PRIMARY KEY AUTOINCREMENTNOT NULL, date TEXT, '\\\n",
    "              'prod_name TEXT, valor REAL)')\n",
    "    \n",
    "# Função inserir uma linha\n",
    "def data_insert():\n",
    "    c.execute(\"INSERT INTO produtos VALUES(002, '02-05-2016', 130 )\")\n",
    "    conn.commit()\n",
    "    c.close()\n",
    "    conn.close()\n",
    "    \n",
    "# Usando variáveis para inserir dados\n",
    "def data_insert_var():\n",
    "    new_date = datetime.datetime.now()\n",
    "    new_prod_name = \"monitor\"\n",
    "    new_valor = random.randrange(50,100)\n",
    "    c.execute(\"INSERT INTO produtos (date, prod_name, valor) VALUES (?, ?, ?)\",\n",
    "              (new_date, new_prod_name, new_valor))\n",
    "    conn.commit()\n",
    "    \n",
    "# Leitura de dados\n",
    "def leitura_todos_dados():\n",
    "    c.execute(\"SELECT * FROM PRODUTOS\")\n",
    "    for linha in c.fetchall():\n",
    "        print(linha)\n",
    "        \n",
    "# Leitura de registros específicos\n",
    "def leitura_registros():\n",
    "    c.execute(\"SELECT * FROM PRODUTOS WHERE valor > 60.0\")\n",
    "    for linha in c.fetchall():\n",
    "        print(linha)\n",
    "\n",
    "# Leitura de colunas específicas\n",
    "def leitura_colunas():\n",
    "    c.execute(\"SELECT * FROM PRODUTOS\")\n",
    "    for linha in c.fetchall():\n",
    "        print(linha[3])"
   ]
  },
  {
   "cell_type": "code",
   "execution_count": 4,
   "id": "dc7387df",
   "metadata": {},
   "outputs": [
    {
     "name": "stdout",
     "output_type": "stream",
     "text": [
      "(10, '2018-05-02 14:32:11', 'teclado', 90.0)\n",
      "(11, '2022-12-29 14:04:18.334018', 'Monitor', 73.0)\n",
      "(12, '2022-12-29 14:05:24.605503', 'Monitor', 78.0)\n",
      "(13, '2022-12-29 14:05:25.611463', 'Monitor', 80.0)\n",
      "(14, '2022-12-29 14:05:26.616829', 'Monitor', 83.0)\n",
      "(15, '2022-12-29 14:05:27.619525', 'Monitor', 96.0)\n",
      "(16, '2022-12-29 14:05:28.623526', 'Monitor', 76.0)\n",
      "(17, '2022-12-29 14:05:29.627510', 'Monitor', 70.0)\n",
      "(18, '2022-12-29 14:05:30.631531', 'Monitor', 94.0)\n",
      "(19, '2022-12-29 14:05:31.635751', 'Monitor', 83.0)\n",
      "(20, '2022-12-29 14:05:32.639190', 'Monitor', 56.0)\n",
      "(21, '2022-12-29 14:05:33.643538', 'Monitor', 56.0)\n"
     ]
    }
   ],
   "source": [
    "# Select nos dados\n",
    "leitura_todos_dados()"
   ]
  },
  {
   "cell_type": "code",
   "execution_count": 5,
   "id": "359bafd5",
   "metadata": {},
   "outputs": [
    {
     "name": "stdout",
     "output_type": "stream",
     "text": [
      "(10, '2018-05-02 14:32:11', 'teclado', 90.0)\n",
      "(11, '2022-12-29 14:04:18.334018', 'Monitor', 73.0)\n",
      "(12, '2022-12-29 14:05:24.605503', 'Monitor', 78.0)\n",
      "(13, '2022-12-29 14:05:25.611463', 'Monitor', 80.0)\n",
      "(14, '2022-12-29 14:05:26.616829', 'Monitor', 83.0)\n",
      "(15, '2022-12-29 14:05:27.619525', 'Monitor', 96.0)\n",
      "(16, '2022-12-29 14:05:28.623526', 'Monitor', 76.0)\n",
      "(17, '2022-12-29 14:05:29.627510', 'Monitor', 70.0)\n",
      "(18, '2022-12-29 14:05:30.631531', 'Monitor', 94.0)\n",
      "(19, '2022-12-29 14:05:31.635751', 'Monitor', 83.0)\n"
     ]
    }
   ],
   "source": [
    "# Leitura de registros específicos\n",
    "leitura_registros()"
   ]
  },
  {
   "cell_type": "code",
   "execution_count": 6,
   "id": "37369e2d",
   "metadata": {},
   "outputs": [
    {
     "name": "stdout",
     "output_type": "stream",
     "text": [
      "90.0\n",
      "73.0\n",
      "78.0\n",
      "80.0\n",
      "83.0\n",
      "96.0\n",
      "76.0\n",
      "70.0\n",
      "94.0\n",
      "83.0\n",
      "56.0\n",
      "56.0\n"
     ]
    }
   ],
   "source": [
    "# Leitura de colunas específicas\n",
    "leitura_colunas()"
   ]
  },
  {
   "cell_type": "code",
   "execution_count": 8,
   "id": "43039075",
   "metadata": {},
   "outputs": [],
   "source": [
    "# Encerrando a conexão\n",
    "c.close()\n",
    "conn.close()"
   ]
  },
  {
   "cell_type": "markdown",
   "id": "4ea8f152",
   "metadata": {},
   "source": [
    "## Fim"
   ]
  }
 ],
 "metadata": {
  "kernelspec": {
   "display_name": "Python 3 (ipykernel)",
   "language": "python",
   "name": "python3"
  },
  "language_info": {
   "codemirror_mode": {
    "name": "ipython",
    "version": 3
   },
   "file_extension": ".py",
   "mimetype": "text/x-python",
   "name": "python",
   "nbconvert_exporter": "python",
   "pygments_lexer": "ipython3",
   "version": "3.9.13"
  }
 },
 "nbformat": 4,
 "nbformat_minor": 5
}
