{
 "cells": [
  {
   "cell_type": "markdown",
   "id": "e3f63139",
   "metadata": {},
   "source": [
    "## <font color = 'blue'>Data Science Academy - Python Fundamento - Capítulo 6"
   ]
  },
  {
   "cell_type": "markdown",
   "id": "33c99ea1",
   "metadata": {},
   "source": [
    "## Acessando Banco de Dados Python"
   ]
  },
  {
   "cell_type": "code",
   "execution_count": null,
   "id": "2f39d71a",
   "metadata": {},
   "outputs": [],
   "source": [
    "# Reemove o arquivo com o banco de dados SQLite (Caso exista)\n",
    "import os\n",
    "os.remove(\"escola.db\") if os.path.exists(\"escola.db\") else none"
   ]
  },
  {
   "cell_type": "code",
   "execution_count": 1,
   "id": "c83c5b66",
   "metadata": {},
   "outputs": [],
   "source": [
    "# Importando o módulo de acesso ao SQLite\n",
    "import sqlite3"
   ]
  },
  {
   "cell_type": "code",
   "execution_count": 2,
   "id": "5cec40c0",
   "metadata": {},
   "outputs": [],
   "source": [
    "# Cria uma conexão com o bando de dados.\n",
    "# Se o banco de dados não existir, ele é criado no momento.\n",
    "con = sqlite3.connect('escola.db')"
   ]
  },
  {
   "cell_type": "code",
   "execution_count": 3,
   "id": "d902782e",
   "metadata": {},
   "outputs": [
    {
     "data": {
      "text/plain": [
       "sqlite3.Connection"
      ]
     },
     "execution_count": 3,
     "metadata": {},
     "output_type": "execute_result"
    }
   ],
   "source": [
    "type(con)"
   ]
  },
  {
   "cell_type": "code",
   "execution_count": 4,
   "id": "a76fb2a9",
   "metadata": {},
   "outputs": [],
   "source": [
    "# Criando um cursos\n",
    "# ( Um cursos permite percorrer todo so registros em um conuunto de dados)\n",
    "cur = con.cursor()"
   ]
  },
  {
   "cell_type": "code",
   "execution_count": 5,
   "id": "e0ce7e09",
   "metadata": {},
   "outputs": [
    {
     "data": {
      "text/plain": [
       "sqlite3.Cursor"
      ]
     },
     "execution_count": 5,
     "metadata": {},
     "output_type": "execute_result"
    }
   ],
   "source": [
    "type(cur)"
   ]
  },
  {
   "cell_type": "code",
   "execution_count": 7,
   "id": "caeca3eb",
   "metadata": {},
   "outputs": [],
   "source": [
    "# Cria uma instrução sql\n",
    "sql_create ='create table cursos '\\\n",
    "'(id integer primary key, '\\\n",
    "'titulo varchar(100), '\\\n",
    "'categoria varchar(140))'"
   ]
  },
  {
   "cell_type": "code",
   "execution_count": 8,
   "id": "7d1196e5",
   "metadata": {},
   "outputs": [
    {
     "data": {
      "text/plain": [
       "<sqlite3.Cursor at 0x7f7d6893f960>"
      ]
     },
     "execution_count": 8,
     "metadata": {},
     "output_type": "execute_result"
    }
   ],
   "source": [
    "# Executando a instrução sql no cursor\n",
    "cur.execute(sql_create)"
   ]
  },
  {
   "cell_type": "code",
   "execution_count": 11,
   "id": "5898b683",
   "metadata": {},
   "outputs": [],
   "source": [
    "# Criando outra sentença SQL para inserir registros\n",
    "sql_insert = 'insert into cursos values (?, ?, ?)'"
   ]
  },
  {
   "cell_type": "code",
   "execution_count": 12,
   "id": "dc7b49d0",
   "metadata": {},
   "outputs": [],
   "source": [
    "# Dados\n",
    "recset = [(100, 'Ciência de Dados', 'Data Science'),\n",
    "          (1001, 'Big Data Fundamentos', 'Big Data'),\n",
    "          (1002, 'Python Fundamentos', 'Análise de Dados')]"
   ]
  },
  {
   "cell_type": "code",
   "execution_count": 13,
   "id": "44cd323d",
   "metadata": {},
   "outputs": [],
   "source": [
    "# Inserindo os registros\n",
    "for rec in recset:\n",
    "    cur.execute(sql_insert, rec)"
   ]
  },
  {
   "cell_type": "code",
   "execution_count": 14,
   "id": "ae2d8f1f",
   "metadata": {},
   "outputs": [],
   "source": [
    "# Grava a transação\n",
    "con.commit()"
   ]
  },
  {
   "cell_type": "code",
   "execution_count": 15,
   "id": "dc5a838a",
   "metadata": {},
   "outputs": [],
   "source": [
    "# Criando outra sentenção SQL para selecionar registros\n",
    "sql_select = 'select * from cursos'"
   ]
  },
  {
   "cell_type": "code",
   "execution_count": 16,
   "id": "b8458a57",
   "metadata": {},
   "outputs": [],
   "source": [
    "# Seleciona todos os registros e recupera os registros\n",
    "cur.execute(sql_select)\n",
    "dados = cur.fetchall()"
   ]
  },
  {
   "cell_type": "code",
   "execution_count": 17,
   "id": "af0dc9bc",
   "metadata": {},
   "outputs": [
    {
     "name": "stdout",
     "output_type": "stream",
     "text": [
      "Curso id: 100, Título: Ciência de Dados, Categoria: Data Science \n",
      "\n",
      "Curso id: 1001, Título: Big Data Fundamentos, Categoria: Big Data \n",
      "\n",
      "Curso id: 1002, Título: Python Fundamentos, Categoria: Análise de Dados \n",
      "\n"
     ]
    }
   ],
   "source": [
    "# Mostra\n",
    "for linha in dados:\n",
    "    print('Curso id: %d, Título: %s, Categoria: %s \\n' % linha)"
   ]
  },
  {
   "cell_type": "code",
   "execution_count": 18,
   "id": "10969047",
   "metadata": {},
   "outputs": [],
   "source": [
    "# Gravando outros registros\n",
    "recset =[(1003, 'Gestão de Dados com MongoDB', 'Big Data'),\n",
    "         (1004, 'R Fundamentos', 'Análise de Dados')]\n",
    "\n",
    "# Inserindo os registros\n",
    "for rec in recset:\n",
    "    cur.execute(sql_insert, rec)\n",
    "\n",
    "# Gravando a transação\n",
    "con.commit()"
   ]
  },
  {
   "cell_type": "code",
   "execution_count": 19,
   "id": "098a167f",
   "metadata": {},
   "outputs": [
    {
     "name": "stdout",
     "output_type": "stream",
     "text": [
      "Curso id: 100, Título: Ciência de Dados, Categoria: Data Science \n",
      "\n",
      "Curso id: 1001, Título: Big Data Fundamentos, Categoria: Big Data \n",
      "\n",
      "Curso id: 1002, Título: Python Fundamentos, Categoria: Análise de Dados \n",
      "\n",
      "Curso id: 1003, Título: Gestão de Dados com MongoDB, Categoria: Big Data \n",
      "\n",
      "Curso id: 1004, Título: R Fundamentos, Categoria: Análise de Dados \n",
      "\n"
     ]
    }
   ],
   "source": [
    "# Seleciona todos os registros\n",
    "cur.execute('select * from cursos')\n",
    "\n",
    "# Recupera os resultados\n",
    "recset = cur.fetchall()\n",
    "\n",
    "# Mostra\n",
    "for rec in recset:\n",
    "    print ('Curso id: %d, Título: %s, Categoria: %s \\n' % rec)"
   ]
  },
  {
   "cell_type": "code",
   "execution_count": 20,
   "id": "400764fe",
   "metadata": {},
   "outputs": [],
   "source": [
    "con.close()"
   ]
  },
  {
   "cell_type": "markdown",
   "id": "31f2e4ac",
   "metadata": {},
   "source": [
    "## Fim"
   ]
  },
  {
   "cell_type": "code",
   "execution_count": null,
   "id": "fe22eefa",
   "metadata": {},
   "outputs": [],
   "source": []
  }
 ],
 "metadata": {
  "kernelspec": {
   "display_name": "Python 3 (ipykernel)",
   "language": "python",
   "name": "python3"
  },
  "language_info": {
   "codemirror_mode": {
    "name": "ipython",
    "version": 3
   },
   "file_extension": ".py",
   "mimetype": "text/x-python",
   "name": "python",
   "nbconvert_exporter": "python",
   "pygments_lexer": "ipython3",
   "version": "3.9.13"
  }
 },
 "nbformat": 4,
 "nbformat_minor": 5
}
