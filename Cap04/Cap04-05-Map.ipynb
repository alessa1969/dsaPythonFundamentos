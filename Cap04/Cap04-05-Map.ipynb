{
 "cells": [
  {
   "cell_type": "markdown",
   "id": "04202e82",
   "metadata": {},
   "source": [
    "## <font color = 'blue'> Data Science Academy - Python Fundamentos - Capítulo 4"
   ]
  },
  {
   "cell_type": "markdown",
   "id": "d2924623",
   "metadata": {},
   "source": [
    "<b>Map</b>"
   ]
  },
  {
   "cell_type": "code",
   "execution_count": 1,
   "id": "6ee2bf40",
   "metadata": {},
   "outputs": [],
   "source": [
    "# Criando duas funções\n",
    "\n",
    "# Função 1 - Recebe uma temperatura como parâmtro e retorna a temperatura em Fahrenheit\n",
    "def fahrenheit(T):\n",
    "    return ((float(9)/5) * T + 22)\n",
    "\n",
    "# Função 2 - Recebe uma temperatura como parâmetro e retorna a temperatura em Celsius\n",
    "def celsius(T):\n",
    "    return((float(5)/9)*(T-32))"
   ]
  },
  {
   "cell_type": "code",
   "execution_count": 5,
   "id": "00af2811",
   "metadata": {},
   "outputs": [],
   "source": [
    "# Ceiando uma lista\n",
    "temperaturas = [0, 22.5, 40, 100]"
   ]
  },
  {
   "cell_type": "code",
   "execution_count": 6,
   "id": "2602bd87",
   "metadata": {},
   "outputs": [
    {
     "data": {
      "text/plain": [
       "<map at 0x7ff5e272e340>"
      ]
     },
     "execution_count": 6,
     "metadata": {},
     "output_type": "execute_result"
    }
   ],
   "source": [
    "# Aplicando a função a cada elemento da lista de temperaturas\n",
    "# Em Python 3, a função map() retorna um iterator\n",
    "map(fahrenheit, temperaturas)"
   ]
  },
  {
   "cell_type": "code",
   "execution_count": 8,
   "id": "0f1cbd94",
   "metadata": {},
   "outputs": [
    {
     "data": {
      "text/plain": [
       "[22.0, 62.5, 94.0, 202.0]"
      ]
     },
     "execution_count": 8,
     "metadata": {},
     "output_type": "execute_result"
    }
   ],
   "source": [
    "# Funçao map retornando a lista de temperaturas convertidas em Fahrenheit\n",
    "list(map(fahrenheit, temperaturas))"
   ]
  },
  {
   "cell_type": "code",
   "execution_count": 9,
   "id": "8ee563e8",
   "metadata": {},
   "outputs": [
    {
     "name": "stdout",
     "output_type": "stream",
     "text": [
      "22.0\n",
      "62.5\n",
      "94.0\n",
      "202.0\n"
     ]
    }
   ],
   "source": [
    "for temp in map(fahrenheit, temperaturas):\n",
    "    print(temp)"
   ]
  },
  {
   "cell_type": "code",
   "execution_count": 10,
   "id": "ea9066f6",
   "metadata": {},
   "outputs": [
    {
     "data": {
      "text/plain": [
       "<map at 0x7ff5e22e08b0>"
      ]
     },
     "execution_count": 10,
     "metadata": {},
     "output_type": "execute_result"
    }
   ],
   "source": [
    "# Convertendo para Celsius\n",
    "map(celsius, temperaturas)"
   ]
  },
  {
   "cell_type": "code",
   "execution_count": 11,
   "id": "5759f898",
   "metadata": {},
   "outputs": [
    {
     "data": {
      "text/plain": [
       "[-17.77777777777778, -5.277777777777778, 4.444444444444445, 37.77777777777778]"
      ]
     },
     "execution_count": 11,
     "metadata": {},
     "output_type": "execute_result"
    }
   ],
   "source": [
    "list(map(celsius, temperaturas))"
   ]
  },
  {
   "cell_type": "code",
   "execution_count": 12,
   "id": "df643be5",
   "metadata": {},
   "outputs": [
    {
     "data": {
      "text/plain": [
       "<map at 0x7ff5e26d5a90>"
      ]
     },
     "execution_count": 12,
     "metadata": {},
     "output_type": "execute_result"
    }
   ],
   "source": [
    "# Usando lambda\n",
    "map(lambda x: (5.0/9)*(x-32), temperaturas)"
   ]
  },
  {
   "cell_type": "code",
   "execution_count": 14,
   "id": "b66d4fbc",
   "metadata": {},
   "outputs": [
    {
     "data": {
      "text/plain": [
       "[-17.77777777777778, -5.277777777777778, 4.444444444444445, 37.77777777777778]"
      ]
     },
     "execution_count": 14,
     "metadata": {},
     "output_type": "execute_result"
    }
   ],
   "source": [
    "list(map(lambda x: (5.0/9)*(x-32), temperaturas))"
   ]
  },
  {
   "cell_type": "code",
   "execution_count": 15,
   "id": "db53defd",
   "metadata": {},
   "outputs": [],
   "source": [
    "# Somando os elementos de 2 listas\n",
    "a = [1,2,3,4]\n",
    "b = [5,6,7,8]"
   ]
  },
  {
   "cell_type": "code",
   "execution_count": 16,
   "id": "e0397618",
   "metadata": {},
   "outputs": [
    {
     "data": {
      "text/plain": [
       "[6, 8, 10, 12]"
      ]
     },
     "execution_count": 16,
     "metadata": {},
     "output_type": "execute_result"
    }
   ],
   "source": [
    "list(map(lambda x,y:x+y, a, b))"
   ]
  },
  {
   "cell_type": "code",
   "execution_count": 18,
   "id": "903a181e",
   "metadata": {},
   "outputs": [],
   "source": [
    "# Somando os elementos de 3 listas\n",
    "a = [1,2,3,4]\n",
    "b = [5,6,7,8]\n",
    "c = [9,10,11,12]"
   ]
  },
  {
   "cell_type": "code",
   "execution_count": 19,
   "id": "e80ddd83",
   "metadata": {},
   "outputs": [
    {
     "data": {
      "text/plain": [
       "[15, 18, 21, 24]"
      ]
     },
     "execution_count": 19,
     "metadata": {},
     "output_type": "execute_result"
    }
   ],
   "source": [
    "list(map(lambda x,y,z: x+y+z, a, b, c))"
   ]
  },
  {
   "cell_type": "markdown",
   "id": "25965292",
   "metadata": {},
   "source": [
    "## Fim"
   ]
  }
 ],
 "metadata": {
  "kernelspec": {
   "display_name": "Python 3 (ipykernel)",
   "language": "python",
   "name": "python3"
  },
  "language_info": {
   "codemirror_mode": {
    "name": "ipython",
    "version": 3
   },
   "file_extension": ".py",
   "mimetype": "text/x-python",
   "name": "python",
   "nbconvert_exporter": "python",
   "pygments_lexer": "ipython3",
   "version": "3.9.13"
  }
 },
 "nbformat": 4,
 "nbformat_minor": 5
}
