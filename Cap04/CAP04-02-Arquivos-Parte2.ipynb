{
 "cells": [
  {
   "cell_type": "markdown",
   "id": "a33257e5",
   "metadata": {},
   "source": [
    "## Data Science Academy - Python Fundamentos - Capítulo 4"
   ]
  },
  {
   "cell_type": "markdown",
   "id": "ef07cddb",
   "metadata": {},
   "source": [
    "<b>Manipulação de Arquivos</b>\n",
    "<p>\n",
    "<li>Arquivo TXT</li>\n",
    "<li>Arquivo CSV</li>\n",
    "<li>Arquivo JSON </li>"
   ]
  },
  {
   "cell_type": "markdown",
   "id": "5692258d",
   "metadata": {},
   "source": [
    "<b>Manipulando Arquivos TXT</b>"
   ]
  },
  {
   "cell_type": "code",
   "execution_count": 1,
   "id": "4ae7a1d9",
   "metadata": {},
   "outputs": [],
   "source": [
    "texto = \"Cientisra de Dados é a profissão que mais tem crescido em todo mundo \\n\"\n",
    "texto = texto + \"Esses profissionais precisam se especializar em Programação, Estatística e Machine Learnind.\\n\"\n",
    "texto += \"E claro, em Big Data.\""
   ]
  },
  {
   "cell_type": "code",
   "execution_count": 2,
   "id": "1ac35a88",
   "metadata": {},
   "outputs": [
    {
     "name": "stdout",
     "output_type": "stream",
     "text": [
      "Cientisra de Dados é a profissão que mais tem crescido em todo mundo \n",
      "Esses profissionais precisam se especializar em Programação, Estatística e Machine Learnind.\n",
      "E claro, em Big Data.\n"
     ]
    }
   ],
   "source": [
    "print(texto)"
   ]
  },
  {
   "cell_type": "code",
   "execution_count": 3,
   "id": "e2a06ed4",
   "metadata": {},
   "outputs": [],
   "source": [
    "# Importando o pacote os\n",
    "import os"
   ]
  },
  {
   "cell_type": "code",
   "execution_count": 4,
   "id": "0b5aed5f",
   "metadata": {},
   "outputs": [],
   "source": [
    "# Criando um arquivo\n",
    "arquivo = open(os.path.join('arquivos/cientista.txt'), 'w')"
   ]
  },
  {
   "cell_type": "code",
   "execution_count": 5,
   "id": "87d272e0",
   "metadata": {},
   "outputs": [],
   "source": [
    "# Gravando os dados no arquivo\n",
    "for palavra in texto.split():\n",
    "    arquivo.write(palavra+' ')"
   ]
  },
  {
   "cell_type": "code",
   "execution_count": 6,
   "id": "da62a1d6",
   "metadata": {},
   "outputs": [],
   "source": [
    "#Fechando o arquivo\n",
    "arquivo.close()"
   ]
  },
  {
   "cell_type": "code",
   "execution_count": 7,
   "id": "b7818cbc",
   "metadata": {},
   "outputs": [
    {
     "name": "stdout",
     "output_type": "stream",
     "text": [
      "Cientisra de Dados é a profissão que mais tem crescido em todo mundo Esses profissionais precisam se especializar em Programação, Estatística e Machine Learnind. E claro, em Big Data. \n"
     ]
    }
   ],
   "source": [
    "# Lendo o arquivo\n",
    "arquivo = open('arquivos/cientista.txt', 'r')\n",
    "conteudo = arquivo.read()\n",
    "arquivo.close()\n",
    "\n",
    "print(conteudo)"
   ]
  },
  {
   "cell_type": "markdown",
   "id": "e1e6f703",
   "metadata": {},
   "source": [
    "<b>Usando a expressão with</b>\n",
    "O método close() é executado automaticamente"
   ]
  },
  {
   "cell_type": "code",
   "execution_count": 8,
   "id": "a457417a",
   "metadata": {},
   "outputs": [],
   "source": [
    "with open('arquivos/cientista.txt','r') as arquivo:\n",
    "    conteudo = arquivo.read()"
   ]
  },
  {
   "cell_type": "code",
   "execution_count": 9,
   "id": "a3196ec1",
   "metadata": {},
   "outputs": [
    {
     "name": "stdout",
     "output_type": "stream",
     "text": [
      "184\n"
     ]
    }
   ],
   "source": [
    "print(len(conteudo))"
   ]
  },
  {
   "cell_type": "code",
   "execution_count": 10,
   "id": "0625b62b",
   "metadata": {},
   "outputs": [
    {
     "name": "stdout",
     "output_type": "stream",
     "text": [
      "Cientisra de Dados é a profissão que mais tem crescido em todo mundo Esses profissionais precisam se especializar em Programação, Estatística e Machine Learnind. E claro, em Big Data. \n"
     ]
    }
   ],
   "source": [
    "print(conteudo)"
   ]
  },
  {
   "cell_type": "code",
   "execution_count": 18,
   "id": "8f26e6ac",
   "metadata": {},
   "outputs": [],
   "source": [
    "with open('arquivos/cientista.txt', 'w') as arquivo:\n",
    "    arquivo.write(texto[:21])\n",
    "    arquivo.write('\\n')\n",
    "    arquivo.write(texto[:33])"
   ]
  },
  {
   "cell_type": "code",
   "execution_count": 19,
   "id": "eae4f77c",
   "metadata": {},
   "outputs": [
    {
     "name": "stdout",
     "output_type": "stream",
     "text": [
      "Cientisra de Dados é a profissão que mais tem crescido em todo mundo \n",
      "Esses profissionais precisam se especializar em Programação, Estatística e Machine Learnind.\n",
      "E claro, em Big Data.\n"
     ]
    }
   ],
   "source": [
    "# Lendo o arquivo\n",
    "arquivo = open('arquivos/cientista.txt', 'r')\n",
    "conteudo = arquivo.read()\n",
    "arquivo.close()\n",
    "\n",
    "print(texto)"
   ]
  },
  {
   "cell_type": "markdown",
   "id": "0dcd16a6",
   "metadata": {},
   "source": [
    "<b>Manipulando Arquivos CSV (comma-separated values</b>"
   ]
  },
  {
   "cell_type": "code",
   "execution_count": 1,
   "id": "c351372d",
   "metadata": {},
   "outputs": [],
   "source": [
    "# Importando o módulo csv\n",
    "import csv"
   ]
  },
  {
   "cell_type": "code",
   "execution_count": 2,
   "id": "a671799a",
   "metadata": {},
   "outputs": [],
   "source": [
    "with open('arquivos/numeros.csv', 'w') as arquivo:\n",
    "    writer = csv.writer(arquivo)\n",
    "    writer.writerow(('primeira', 'segunda', 'terceira'))\n",
    "    writer.writerow((55, 93, 76))\n",
    "    writer.writerow((62,14,86))"
   ]
  },
  {
   "cell_type": "code",
   "execution_count": 3,
   "id": "c7f69f0c",
   "metadata": {},
   "outputs": [
    {
     "name": "stdout",
     "output_type": "stream",
     "text": [
      "Número de colunas: 3\n",
      "['primeira', 'segunda', 'terceira']\n",
      "Número de colunas: 3\n",
      "['55', '93', '76']\n",
      "Número de colunas: 3\n",
      "['62', '14', '86']\n"
     ]
    }
   ],
   "source": [
    "# Leitura de arquivos csv\n",
    "with open('arquivos/numeros.csv', 'r') as arquivo:\n",
    "    leitor = csv.reader(arquivo)\n",
    "    for x in leitor:\n",
    "        print ('Número de colunas:', len(x))\n",
    "        print(x)"
   ]
  },
  {
   "cell_type": "code",
   "execution_count": 5,
   "id": "0a5e7e88",
   "metadata": {},
   "outputs": [
    {
     "name": "stdout",
     "output_type": "stream",
     "text": [
      "[['primeira', 'segunda', 'terceira'], ['55', '93', '76'], ['62', '14', '86']]\n"
     ]
    }
   ],
   "source": [
    "# Gerando uma lista com dados do arquivo csv\n",
    "with open('arquivos/numeros.csv', 'r') as arquivo:\n",
    "    leitor = csv.reader(arquivo)\n",
    "    dados = list(leitor)\n",
    "\n",
    "    print(dados)"
   ]
  },
  {
   "cell_type": "code",
   "execution_count": 7,
   "id": "907b7904",
   "metadata": {},
   "outputs": [
    {
     "name": "stdout",
     "output_type": "stream",
     "text": [
      "['primeira', 'segunda', 'terceira']\n",
      "['55', '93', '76']\n",
      "['62', '14', '86']\n"
     ]
    }
   ],
   "source": [
    "# Imprimindo a partir da segunda linha\n",
    "for linha in dados [0:]:\n",
    "    print(linha)"
   ]
  },
  {
   "cell_type": "markdown",
   "id": "00c11bad",
   "metadata": {},
   "source": [
    "<b>Manipulando Arquivos JSON (Java Script Object Notation)</b>\n",
    "<p>JSON (JavaScript Object Notation é uma maneira de armazenar informações de forma organizada e de fácil acesso. Em poucas palavras, ele nos dá uma coleção legível de dados que podem ser acessados de forma lógica. Pode ser uma fonte de Big Data"
   ]
  },
  {
   "cell_type": "code",
   "execution_count": 8,
   "id": "e8922670",
   "metadata": {},
   "outputs": [],
   "source": [
    "# Criando um dicionário\n",
    "dict ={'nome': 'Guido van Rossum',\n",
    "      'linguagem': 'Python',\n",
    "      'similae': ['c', 'Modula-3', 'lisp'],\n",
    "      'users': 1000000}"
   ]
  },
  {
   "cell_type": "code",
   "execution_count": 9,
   "id": "40fde3ed",
   "metadata": {},
   "outputs": [
    {
     "name": "stdout",
     "output_type": "stream",
     "text": [
      "nome Guido van Rossum\n",
      "linguagem Python\n",
      "similae ['c', 'Modula-3', 'lisp']\n",
      "users 1000000\n"
     ]
    }
   ],
   "source": [
    "for k, v in dict.items():\n",
    "    print(k,v)"
   ]
  },
  {
   "cell_type": "code",
   "execution_count": 10,
   "id": "bc9b8e90",
   "metadata": {},
   "outputs": [],
   "source": [
    "# Importando o módulo jSON\n",
    "import json"
   ]
  },
  {
   "cell_type": "code",
   "execution_count": 11,
   "id": "eabfd668",
   "metadata": {},
   "outputs": [
    {
     "data": {
      "text/plain": [
       "'{\"nome\": \"Guido van Rossum\", \"linguagem\": \"Python\", \"similae\": [\"c\", \"Modula-3\", \"lisp\"], \"users\": 1000000}'"
      ]
     },
     "execution_count": 11,
     "metadata": {},
     "output_type": "execute_result"
    }
   ],
   "source": [
    "# Convertendo o dicionário para um objeto json\n",
    "json.dumps(dict)"
   ]
  },
  {
   "cell_type": "code",
   "execution_count": 15,
   "id": "985c9a76",
   "metadata": {},
   "outputs": [],
   "source": [
    "# Crinado um arquivo json\n",
    "with open('arquivos/dados.json', 'w') as arquivo:\n",
    "    arquivo.write(json.dumps(dict))"
   ]
  },
  {
   "cell_type": "code",
   "execution_count": 16,
   "id": "d36c2c2d",
   "metadata": {},
   "outputs": [],
   "source": [
    "# Leitura de arquivos json\n",
    "with open('arquivos/dados.json', 'r') as arquivo:\n",
    "    texto = arquivo.read()\n",
    "    data = json.loads(texto)"
   ]
  },
  {
   "cell_type": "code",
   "execution_count": 17,
   "id": "612deabd",
   "metadata": {},
   "outputs": [
    {
     "name": "stdout",
     "output_type": "stream",
     "text": [
      "{'nome': 'Guido van Rossum', 'linguagem': 'Python', 'similae': ['c', 'Modula-3', 'lisp'], 'users': 1000000}\n"
     ]
    }
   ],
   "source": [
    "print (data)"
   ]
  },
  {
   "cell_type": "code",
   "execution_count": 18,
   "id": "f27684ea",
   "metadata": {},
   "outputs": [
    {
     "name": "stdout",
     "output_type": "stream",
     "text": [
      "Guido van Rossum\n"
     ]
    }
   ],
   "source": [
    "print(data['nome'])"
   ]
  },
  {
   "cell_type": "code",
   "execution_count": 20,
   "id": "5864586c",
   "metadata": {},
   "outputs": [],
   "source": [
    "# Imprimindo um arquivo json copiado da internet\n",
    "from urllib.request import urlopen\n",
    "\n",
    "response = urlopen(\"http://vimeo.com/api/v2/video/57733101.json\").read().decode('utf8')\n",
    "data = json.loads(response)[0]"
   ]
  },
  {
   "cell_type": "code",
   "execution_count": 22,
   "id": "7ea0b2d2",
   "metadata": {},
   "outputs": [
    {
     "name": "stdout",
     "output_type": "stream",
     "text": [
      "Título:  The Good Man trailer\n",
      "URL:  https://vimeo.com/57733101\n",
      "Duração:  143\n",
      "Número de visualizações:  6539\n"
     ]
    }
   ],
   "source": [
    "print('Título: ', data['title'])\n",
    "print('URL: ', data['url'])\n",
    "print('Duração: ', data['duration'])\n",
    "print('Número de visualizações: ', data['stats_number_of_plays'])"
   ]
  },
  {
   "cell_type": "code",
   "execution_count": 23,
   "id": "36ca7e30",
   "metadata": {},
   "outputs": [],
   "source": [
    "# Copiando o conteúdo de um arquivo para outro\n",
    "import os\n",
    "\n",
    "arquivo_fonte = 'arquivos/dados.json'\n",
    "arquivo_destino = 'arquivos/json_data.txt'"
   ]
  },
  {
   "cell_type": "code",
   "execution_count": 24,
   "id": "8b229154",
   "metadata": {},
   "outputs": [],
   "source": [
    "# Método 1\n",
    "with open(arquivo_fonte, 'r') as infile:\n",
    "    text = infile.read()\n",
    "    with open(arquivo_destino, 'w') as outfile:\n",
    "        outfile.write(text)"
   ]
  },
  {
   "cell_type": "code",
   "execution_count": 25,
   "id": "a1ff690c",
   "metadata": {},
   "outputs": [
    {
     "data": {
      "text/plain": [
       "107"
      ]
     },
     "execution_count": 25,
     "metadata": {},
     "output_type": "execute_result"
    }
   ],
   "source": [
    "# Método 2\n",
    "open(arquivo_destino, 'w').write(open(arquivo_fonte, 'r').read())"
   ]
  },
  {
   "cell_type": "code",
   "execution_count": 26,
   "id": "b2d85602",
   "metadata": {},
   "outputs": [],
   "source": [
    "# Leitura de Arquivos Json\n",
    "with open('arquivos/json_data.txt', 'r') as arquivo:\n",
    "    texto = arquivo.read()\n",
    "    data = json.loads(texto)"
   ]
  },
  {
   "cell_type": "code",
   "execution_count": 27,
   "id": "93de09a7",
   "metadata": {},
   "outputs": [
    {
     "name": "stdout",
     "output_type": "stream",
     "text": [
      "{'nome': 'Guido van Rossum', 'linguagem': 'Python', 'similae': ['c', 'Modula-3', 'lisp'], 'users': 1000000}\n"
     ]
    }
   ],
   "source": [
    "print(data)"
   ]
  },
  {
   "cell_type": "markdown",
   "id": "67139cf4",
   "metadata": {},
   "source": [
    "## Fim"
   ]
  }
 ],
 "metadata": {
  "kernelspec": {
   "display_name": "Python 3 (ipykernel)",
   "language": "python",
   "name": "python3"
  },
  "language_info": {
   "codemirror_mode": {
    "name": "ipython",
    "version": 3
   },
   "file_extension": ".py",
   "mimetype": "text/x-python",
   "name": "python",
   "nbconvert_exporter": "python",
   "pygments_lexer": "ipython3",
   "version": "3.9.13"
  }
 },
 "nbformat": 4,
 "nbformat_minor": 5
}
