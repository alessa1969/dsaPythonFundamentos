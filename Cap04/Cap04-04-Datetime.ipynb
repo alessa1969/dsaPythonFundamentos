{
 "cells": [
  {
   "cell_type": "markdown",
   "id": "4551459b",
   "metadata": {},
   "source": [
    "## <font color = 'blue'> Data Science Academy - Python Fundamentos - Capítulo 4"
   ]
  },
  {
   "cell_type": "markdown",
   "id": "1c20ee7a",
   "metadata": {},
   "source": [
    "<b>Datetime</b>\n",
    "Esse módulo permite a manipulação de datas em Python"
   ]
  },
  {
   "cell_type": "code",
   "execution_count": 1,
   "id": "83a82bb6",
   "metadata": {},
   "outputs": [],
   "source": [
    "import datetime"
   ]
  },
  {
   "cell_type": "code",
   "execution_count": 2,
   "id": "fd4f1127",
   "metadata": {},
   "outputs": [],
   "source": [
    "agora = datetime.datetime.now()"
   ]
  },
  {
   "cell_type": "code",
   "execution_count": 3,
   "id": "6e365f10",
   "metadata": {},
   "outputs": [
    {
     "data": {
      "text/plain": [
       "datetime.datetime(2022, 12, 26, 14, 9, 16, 748665)"
      ]
     },
     "execution_count": 3,
     "metadata": {},
     "output_type": "execute_result"
    }
   ],
   "source": [
    "agora"
   ]
  },
  {
   "cell_type": "code",
   "execution_count": 4,
   "id": "89f6292a",
   "metadata": {},
   "outputs": [],
   "source": [
    "t = datetime.time(7, 43, 28)"
   ]
  },
  {
   "cell_type": "code",
   "execution_count": 5,
   "id": "9a28579b",
   "metadata": {},
   "outputs": [
    {
     "name": "stdout",
     "output_type": "stream",
     "text": [
      "07:43:28\n"
     ]
    }
   ],
   "source": [
    "print(t)"
   ]
  },
  {
   "cell_type": "code",
   "execution_count": 7,
   "id": "eb8dd0b1",
   "metadata": {},
   "outputs": [
    {
     "name": "stdout",
     "output_type": "stream",
     "text": [
      "Hora         :  7\n",
      "Minute       :  43\n",
      "Segundo      :  28\n",
      "Microsegundo :  0\n"
     ]
    }
   ],
   "source": [
    "print ('Hora         : ', t.hour)\n",
    "print('Minute       : ', t.minute)\n",
    "print('Segundo      : ', t.second)\n",
    "print('Microsegundo : ', t.microsecond)"
   ]
  },
  {
   "cell_type": "code",
   "execution_count": 8,
   "id": "39269720",
   "metadata": {},
   "outputs": [
    {
     "name": "stdout",
     "output_type": "stream",
     "text": [
      "00:00:00\n"
     ]
    }
   ],
   "source": [
    "print(datetime.time.min)"
   ]
  },
  {
   "cell_type": "code",
   "execution_count": 12,
   "id": "8d886d85",
   "metadata": {},
   "outputs": [],
   "source": [
    "hoje = datetime.date.today()"
   ]
  },
  {
   "cell_type": "code",
   "execution_count": 15,
   "id": "6c87aba9",
   "metadata": {},
   "outputs": [
    {
     "name": "stdout",
     "output_type": "stream",
     "text": [
      "2022-12-26\n"
     ]
    }
   ],
   "source": [
    "print(hoje)"
   ]
  },
  {
   "cell_type": "code",
   "execution_count": 20,
   "id": "176d133f",
   "metadata": {},
   "outputs": [
    {
     "name": "stdout",
     "output_type": "stream",
     "text": [
      "2022-12-26\n",
      "ctime :  Mon Dec 26 00:00:00 2022\n",
      "Ano   :  2022\n",
      "Mês   :  12\n",
      "Dia   :  26\n"
     ]
    }
   ],
   "source": [
    "print(hoje)\n",
    "print('ctime : ', hoje.ctime())\n",
    "print('Ano   : ', hoje.year)\n",
    "print('Mês   : ', hoje.month)\n",
    "print('Dia   : ', hoje.day)"
   ]
  },
  {
   "cell_type": "code",
   "execution_count": 18,
   "id": "3d7d622c",
   "metadata": {},
   "outputs": [
    {
     "name": "stdout",
     "output_type": "stream",
     "text": [
      "d1 : 2015-04-28\n"
     ]
    }
   ],
   "source": [
    "d1 = datetime.date(2015, 4, 28)\n",
    "print('d1 :', d1)"
   ]
  },
  {
   "cell_type": "code",
   "execution_count": 19,
   "id": "6cff4aa4",
   "metadata": {},
   "outputs": [
    {
     "name": "stdout",
     "output_type": "stream",
     "text": [
      "d2 : 2016-04-28\n"
     ]
    }
   ],
   "source": [
    "d2 = d1.replace(year=2016)\n",
    "print ('d2 :', d2)"
   ]
  },
  {
   "cell_type": "code",
   "execution_count": 21,
   "id": "e2f51a6a",
   "metadata": {},
   "outputs": [
    {
     "data": {
      "text/plain": [
       "datetime.timedelta(days=366)"
      ]
     },
     "execution_count": 21,
     "metadata": {},
     "output_type": "execute_result"
    }
   ],
   "source": [
    "# Diferença em dias entre duas datas\n",
    "d2 - d1"
   ]
  },
  {
   "cell_type": "markdown",
   "id": "6c7e8ed3",
   "metadata": {},
   "source": [
    "## Fim"
   ]
  }
 ],
 "metadata": {
  "kernelspec": {
   "display_name": "Python 3 (ipykernel)",
   "language": "python",
   "name": "python3"
  },
  "language_info": {
   "codemirror_mode": {
    "name": "ipython",
    "version": 3
   },
   "file_extension": ".py",
   "mimetype": "text/x-python",
   "name": "python",
   "nbconvert_exporter": "python",
   "pygments_lexer": "ipython3",
   "version": "3.9.13"
  }
 },
 "nbformat": 4,
 "nbformat_minor": 5
}
