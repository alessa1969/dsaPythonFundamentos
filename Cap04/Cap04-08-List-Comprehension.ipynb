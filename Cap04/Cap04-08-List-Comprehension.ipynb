{
 "cells": [
  {
   "cell_type": "markdown",
   "id": "508503ae",
   "metadata": {},
   "source": [
    "## <font color =blue> Data Science Academy - Python Fundamentos - Capítulo 4"
   ]
  },
  {
   "cell_type": "markdown",
   "id": "5bbc5973",
   "metadata": {},
   "source": [
    "## List Comprehension"
   ]
  },
  {
   "cell_type": "code",
   "execution_count": 2,
   "id": "d6d5e66f",
   "metadata": {},
   "outputs": [],
   "source": [
    "# retornar cada caracter em uma sequência de caracteres\n",
    "lst = [x for x in 'Python']"
   ]
  },
  {
   "cell_type": "code",
   "execution_count": 3,
   "id": "3dc25cc8",
   "metadata": {},
   "outputs": [
    {
     "data": {
      "text/plain": [
       "['P', 'y', 't', 'h', 'o', 'n']"
      ]
     },
     "execution_count": 3,
     "metadata": {},
     "output_type": "execute_result"
    }
   ],
   "source": [
    "lst"
   ]
  },
  {
   "cell_type": "code",
   "execution_count": 4,
   "id": "25265139",
   "metadata": {},
   "outputs": [
    {
     "data": {
      "text/plain": [
       "list"
      ]
     },
     "execution_count": 4,
     "metadata": {},
     "output_type": "execute_result"
    }
   ],
   "source": [
    "type(lst)"
   ]
  },
  {
   "cell_type": "code",
   "execution_count": 5,
   "id": "3567546c",
   "metadata": {},
   "outputs": [],
   "source": [
    "# Raiz quadrada e uma range  de números e retornar uma lista\n",
    "lst = [ x**2 for x in range(0,11)]"
   ]
  },
  {
   "cell_type": "code",
   "execution_count": 6,
   "id": "45e1d6aa",
   "metadata": {},
   "outputs": [
    {
     "data": {
      "text/plain": [
       "[0, 1, 4, 9, 16, 25, 36, 49, 64, 81, 100]"
      ]
     },
     "execution_count": 6,
     "metadata": {},
     "output_type": "execute_result"
    }
   ],
   "source": [
    "lst"
   ]
  },
  {
   "cell_type": "code",
   "execution_count": 7,
   "id": "085c721e",
   "metadata": {},
   "outputs": [],
   "source": [
    "# Verificar os números pares em range de números\n",
    "lst = [x for x in range(11) if x % 2 ==0]"
   ]
  },
  {
   "cell_type": "code",
   "execution_count": 8,
   "id": "23dfb09d",
   "metadata": {},
   "outputs": [
    {
     "data": {
      "text/plain": [
       "[0, 2, 4, 6, 8, 10]"
      ]
     },
     "execution_count": 8,
     "metadata": {},
     "output_type": "execute_result"
    }
   ],
   "source": [
    "lst"
   ]
  },
  {
   "cell_type": "code",
   "execution_count": 11,
   "id": "08136b64",
   "metadata": {},
   "outputs": [
    {
     "data": {
      "text/plain": [
       "[32.0, 50.0, 68.18, 94.1]"
      ]
     },
     "execution_count": 11,
     "metadata": {},
     "output_type": "execute_result"
    }
   ],
   "source": [
    "# Converte Celsius para Fahrenheit\n",
    "celsius = [0, 10, 20.1, 34.5]\n",
    "\n",
    "fahrenheit = [((float(9)/5)* temp + 32) for temp in celsius]\n",
    "\n",
    "fahrenheit"
   ]
  },
  {
   "cell_type": "code",
   "execution_count": 14,
   "id": "17541465",
   "metadata": {
    "scrolled": true
   },
   "outputs": [],
   "source": [
    "# Operações aninhadas\n",
    "lst = [x**2 for x in [x**2 for x in  range(11)]]"
   ]
  },
  {
   "cell_type": "code",
   "execution_count": 15,
   "id": "4fc2478f",
   "metadata": {},
   "outputs": [
    {
     "data": {
      "text/plain": [
       "[0, 1, 16, 81, 256, 625, 1296, 2401, 4096, 6561, 10000]"
      ]
     },
     "execution_count": 15,
     "metadata": {},
     "output_type": "execute_result"
    }
   ],
   "source": [
    "lst"
   ]
  },
  {
   "cell_type": "markdown",
   "id": "040fb75b",
   "metadata": {},
   "source": [
    "## Fim"
   ]
  }
 ],
 "metadata": {
  "kernelspec": {
   "display_name": "Python 3 (ipykernel)",
   "language": "python",
   "name": "python3"
  },
  "language_info": {
   "codemirror_mode": {
    "name": "ipython",
    "version": 3
   },
   "file_extension": ".py",
   "mimetype": "text/x-python",
   "name": "python",
   "nbconvert_exporter": "python",
   "pygments_lexer": "ipython3",
   "version": "3.9.13"
  }
 },
 "nbformat": 4,
 "nbformat_minor": 5
}
