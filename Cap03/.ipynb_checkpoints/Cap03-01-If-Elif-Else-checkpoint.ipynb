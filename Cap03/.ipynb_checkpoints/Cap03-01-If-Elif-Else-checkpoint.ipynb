{
 "cells": [
  {
   "cell_type": "markdown",
   "id": "9872d659",
   "metadata": {},
   "source": [
    "## <font color=\"blue\"> Data Science Academy - Python Fundamentos - Capitulo 3"
   ]
  },
  {
   "cell_type": "markdown",
   "id": "622dc46c",
   "metadata": {},
   "source": [
    "<b>Condicionais If</b>"
   ]
  },
  {
   "cell_type": "code",
   "execution_count": 1,
   "id": "c347b05b",
   "metadata": {},
   "outputs": [
    {
     "name": "stdout",
     "output_type": "stream",
     "text": [
      "Python funciona\n"
     ]
    }
   ],
   "source": [
    "# Condicionais If\n",
    "if 5 > 2:\n",
    "    print(\"Python funciona\")\n"
   ]
  },
  {
   "cell_type": "code",
   "execution_count": 2,
   "id": "e0617e2a",
   "metadata": {},
   "outputs": [
    {
     "name": "stdout",
     "output_type": "stream",
     "text": [
      "Algo está errado!\n"
     ]
    }
   ],
   "source": [
    "# Statement if...Else\n",
    "if 5 < 2:\n",
    "    print(\"Python funciona!\")\n",
    "else:\n",
    "    print(\"Algo está errado!\")"
   ]
  },
  {
   "cell_type": "code",
   "execution_count": 3,
   "id": "b1b3e3a2",
   "metadata": {},
   "outputs": [
    {
     "data": {
      "text/plain": [
       "True"
      ]
     },
     "execution_count": 3,
     "metadata": {},
     "output_type": "execute_result"
    }
   ],
   "source": [
    "6 > 3"
   ]
  },
  {
   "cell_type": "code",
   "execution_count": 4,
   "id": "84d26dc9",
   "metadata": {},
   "outputs": [
    {
     "data": {
      "text/plain": [
       "False"
      ]
     },
     "execution_count": 4,
     "metadata": {},
     "output_type": "execute_result"
    }
   ],
   "source": [
    "3 > 7"
   ]
  },
  {
   "cell_type": "code",
   "execution_count": 5,
   "id": "aae240dd",
   "metadata": {},
   "outputs": [
    {
     "data": {
      "text/plain": [
       "True"
      ]
     },
     "execution_count": 5,
     "metadata": {},
     "output_type": "execute_result"
    }
   ],
   "source": [
    "4 < 8"
   ]
  },
  {
   "cell_type": "code",
   "execution_count": 6,
   "id": "b3cab872",
   "metadata": {},
   "outputs": [
    {
     "data": {
      "text/plain": [
       "True"
      ]
     },
     "execution_count": 6,
     "metadata": {},
     "output_type": "execute_result"
    }
   ],
   "source": [
    "4 >= 4"
   ]
  },
  {
   "cell_type": "code",
   "execution_count": 7,
   "id": "f12a2efa",
   "metadata": {},
   "outputs": [
    {
     "name": "stdout",
     "output_type": "stream",
     "text": [
      "Testando Python!\n"
     ]
    }
   ],
   "source": [
    "if 5 == 5:\n",
    "    print(\"Testando Python!\")"
   ]
  },
  {
   "cell_type": "code",
   "execution_count": 8,
   "id": "190c44cd",
   "metadata": {},
   "outputs": [
    {
     "name": "stdout",
     "output_type": "stream",
     "text": [
      "Parece que Python funciona!\n"
     ]
    }
   ],
   "source": [
    "if True:\n",
    "    print(\"Parece que Python funciona!\")"
   ]
  },
  {
   "cell_type": "code",
   "execution_count": 9,
   "id": "248f0ab4",
   "metadata": {},
   "outputs": [
    {
     "ename": "SyntaxError",
     "evalue": "invalid syntax (1752371859.py, line 2)",
     "output_type": "error",
     "traceback": [
      "\u001b[0;36m  File \u001b[0;32m\"/tmp/ipykernel_5233/1752371859.py\"\u001b[0;36m, line \u001b[0;32m2\u001b[0m\n\u001b[0;31m    if 4 > 3\u001b[0m\n\u001b[0m            ^\u001b[0m\n\u001b[0;31mSyntaxError\u001b[0m\u001b[0;31m:\u001b[0m invalid syntax\n"
     ]
    }
   ],
   "source": [
    "# Atenção com a sintaxe\n",
    "if 4 > 3\n",
    "    print(\"Tudo Funciona!\")"
   ]
  },
  {
   "cell_type": "code",
   "execution_count": 10,
   "id": "58e03a8a",
   "metadata": {},
   "outputs": [
    {
     "name": "stdout",
     "output_type": "stream",
     "text": [
      "Tudo Funciona!\n"
     ]
    }
   ],
   "source": [
    "if 4 > 3:\n",
    "    print(\"Tudo Funciona!\")"
   ]
  },
  {
   "cell_type": "markdown",
   "id": "58ad28c7",
   "metadata": {},
   "source": [
    "<b>Condicionais aninhados</b>"
   ]
  },
  {
   "cell_type": "code",
   "execution_count": 11,
   "id": "fac645c1",
   "metadata": {},
   "outputs": [
    {
     "name": "stdout",
     "output_type": "stream",
     "text": [
      "Ok Bob, você está autorizado a entrar\n"
     ]
    }
   ],
   "source": [
    "idade = 18\n",
    "Nome = \"Bob\"\n",
    "if (idade >= 13) or (Nome == \"Bob\"):\n",
    "    print(\"Ok Bob, você está autorizado a entrar\")"
   ]
  },
  {
   "cell_type": "code",
   "execution_count": 12,
   "id": "8f6a4976",
   "metadata": {},
   "outputs": [
    {
     "name": "stdout",
     "output_type": "stream",
     "text": [
      "Ok Bob, você está autorizado a entrar!\n"
     ]
    }
   ],
   "source": [
    "Nome = \"Bob\"\n",
    "if idade > 13:\n",
    "    if Nome == \"Bob\":\n",
    "        print(\"Ok Bob, você está autorizado a entrar!\")\n",
    "    else:\n",
    "        print(\"Desculpe, mas você não pode entrar!\")"
   ]
  },
  {
   "cell_type": "code",
   "execution_count": 13,
   "id": "3f4fe29e",
   "metadata": {},
   "outputs": [
    {
     "name": "stdout",
     "output_type": "stream",
     "text": [
      "Ok Bob, você está autorizado a entrar!\n"
     ]
    }
   ],
   "source": [
    "idade = 13\n",
    "Nome = \"Bob\"\n",
    "if idade >= 13 and Nome == \"Bob\":\n",
    "    print(\"Ok Bob, você está autorizado a entrar!\")"
   ]
  },
  {
   "cell_type": "code",
   "execution_count": 14,
   "id": "4f6c5f8c",
   "metadata": {},
   "outputs": [
    {
     "name": "stdout",
     "output_type": "stream",
     "text": [
      "Ok Bob, você está autorizado a entrar\n"
     ]
    }
   ],
   "source": [
    "idade = 12\n",
    "Nome = \"Bob\"\n",
    "if (idade >= 13) or (Nome == \"Bob\"):\n",
    "    print(\"Ok Bob, você está autorizado a entrar\")"
   ]
  },
  {
   "cell_type": "markdown",
   "id": "4f6857fb",
   "metadata": {},
   "source": [
    "<b>Elif</b>"
   ]
  },
  {
   "cell_type": "code",
   "execution_count": 15,
   "id": "19cb7463",
   "metadata": {},
   "outputs": [
    {
     "name": "stdout",
     "output_type": "stream",
     "text": [
      "Hoje vai chover!\n"
     ]
    }
   ],
   "source": [
    "dia = \"Terça\"\n",
    "if dia == \"Segunda\":\n",
    "    print(\"Hoje fará sol!\")\n",
    "else:\n",
    "    print(\"Hoje vai chover!\")"
   ]
  },
  {
   "cell_type": "code",
   "execution_count": 16,
   "id": "5d6c7e5d",
   "metadata": {},
   "outputs": [
    {
     "name": "stdout",
     "output_type": "stream",
     "text": [
      "Você pode dirigir!\n"
     ]
    }
   ],
   "source": [
    "if dia == \"Segunda\":\n",
    "    print(\"Hoje fará sol\")\n",
    "elif dia == \"Terça\":\n",
    "    print(\"Você pode dirigir!\")"
   ]
  },
  {
   "cell_type": "markdown",
   "id": "3b2be083",
   "metadata": {},
   "source": [
    "<b>Operadores Lógicos</b>"
   ]
  },
  {
   "cell_type": "code",
   "execution_count": 17,
   "id": "495e63ca",
   "metadata": {},
   "outputs": [
    {
     "name": "stdout",
     "output_type": "stream",
     "text": [
      "Você pode dirigir!\n"
     ]
    }
   ],
   "source": [
    "idade = 18\n",
    "nome = \"Bob\"\n",
    "if idade > 17:\n",
    "    print(\"Você pode dirigir!\")"
   ]
  },
  {
   "cell_type": "code",
   "execution_count": 18,
   "id": "72305fd3",
   "metadata": {},
   "outputs": [
    {
     "name": "stdout",
     "output_type": "stream",
     "text": [
      "Autorizado\n"
     ]
    }
   ],
   "source": [
    "idade = 18\n",
    "if idade > 17 and nome == \"Bob\":\n",
    "    print(\"Autorizado\")"
   ]
  },
  {
   "cell_type": "code",
   "execution_count": null,
   "id": "63a55d96",
   "metadata": {
    "scrolled": true
   },
   "outputs": [],
   "source": [
    "# Usando mais de uma condição na cláusula if\n",
    "disciplina = input('Digite o nome da disciplina: ')\n",
    "nota_final = input('Digite a nota final (entre 0 e 100): ')\n",
    "semestre = input('Digite o semestre (1 a 4): ')\n",
    "\n",
    "if disciplina == 'Geografia' and nota_final >= '70':\n",
    "    print('Você foi aprovado')\n",
    "else:\n",
    "    print('Lamento, acho que você precisa estudar mais')"
   ]
  },
  {
   "cell_type": "code",
   "execution_count": 3,
   "id": "88289455",
   "metadata": {},
   "outputs": [
    {
     "name": "stdout",
     "output_type": "stream",
     "text": [
      "Digite o nome da disciplina : Geografia\n",
      "Digite a nota final (entre 0 e 100) :70\n",
      "Digite o semestre (1 a 4) :2\n",
      "Voce foi aprovado em Geografia com média final 70!\n"
     ]
    }
   ],
   "source": [
    "# Usando mais de uma condição na cláusula if e introduzindo Placeholders\n",
    "\n",
    "disciplina = input('Digite o nome da disciplina : ')\n",
    "nota_final = input('Digite a nota final (entre 0 e 100) :')\n",
    "semestre = input('Digite o semestre (1 a 4) :')\n",
    "\n",
    "if disciplina == 'Geografia' and nota_final >= '50' and int(semestre) != 1:\n",
    "    print('Voce foi aprovado em %s com média final %r!' %(disciplina, int(nota_final)))\n",
    "else:\n",
    "    print('Lamento, acho que você precisa estudar mais!')"
   ]
  },
  {
   "cell_type": "markdown",
   "id": "c1b50a31",
   "metadata": {},
   "source": [
    "<b>--> Fique atento aos espaços entre as margense cada um dos seus comandos. Falaremos mais sobre indentação ao longo do curso. A indentação faz parte da sintaxe da linguagem Python</b>"
   ]
  },
  {
   "cell_type": "markdown",
   "id": "d0d2f6bc",
   "metadata": {},
   "source": [
    "## Fim"
   ]
  },
  {
   "cell_type": "code",
   "execution_count": null,
   "id": "bc2eb573",
   "metadata": {},
   "outputs": [],
   "source": []
  }
 ],
 "metadata": {
  "kernelspec": {
   "display_name": "Python 3 (ipykernel)",
   "language": "python",
   "name": "python3"
  },
  "language_info": {
   "codemirror_mode": {
    "name": "ipython",
    "version": 3
   },
   "file_extension": ".py",
   "mimetype": "text/x-python",
   "name": "python",
   "nbconvert_exporter": "python",
   "pygments_lexer": "ipython3",
   "version": "3.9.13"
  }
 },
 "nbformat": 4,
 "nbformat_minor": 5
}
