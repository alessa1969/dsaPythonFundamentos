{
 "cells": [
  {
   "cell_type": "markdown",
   "id": "a11f3243",
   "metadata": {},
   "source": [
    "## <font color ='blue'> Data Science Academy - Python Fundamentos - Capítulo 3"
   ]
  },
  {
   "cell_type": "markdown",
   "id": "02a70dc1",
   "metadata": {},
   "source": [
    "<b>Range</b>"
   ]
  },
  {
   "cell_type": "code",
   "execution_count": 5,
   "id": "a5dd6df5",
   "metadata": {},
   "outputs": [],
   "source": [
    "# Imprimindo números pares entre 50 e 10:\n",
    "for i in range(50, 10, 2):\n",
    "    print(i)"
   ]
  },
  {
   "cell_type": "code",
   "execution_count": null,
   "id": "4bd1b0ea",
   "metadata": {},
   "outputs": [],
   "source": []
  }
 ],
 "metadata": {
  "kernelspec": {
   "display_name": "Python 3 (ipykernel)",
   "language": "python",
   "name": "python3"
  },
  "language_info": {
   "codemirror_mode": {
    "name": "ipython",
    "version": 3
   },
   "file_extension": ".py",
   "mimetype": "text/x-python",
   "name": "python",
   "nbconvert_exporter": "python",
   "pygments_lexer": "ipython3",
   "version": "3.9.13"
  }
 },
 "nbformat": 4,
 "nbformat_minor": 5
}
