{
 "cells": [
  {
   "cell_type": "markdown",
   "id": "dee9c12f",
   "metadata": {},
   "source": [
    "## <font color ='blue'> Data Science Academy - Python Fundamentos - Capítulo 3"
   ]
  },
  {
   "cell_type": "markdown",
   "id": "630219d6",
   "metadata": {},
   "source": [
    "<b>Loop For</b>"
   ]
  },
  {
   "cell_type": "code",
   "execution_count": 1,
   "id": "953c497f",
   "metadata": {},
   "outputs": [
    {
     "name": "stdout",
     "output_type": "stream",
     "text": [
      "2\n",
      "3\n",
      "4\n"
     ]
    }
   ],
   "source": [
    "# Criando uma tupla e imprimindo cada um dos valores\n",
    "tp = (2, 3, 4)\n",
    "for i in tp:\n",
    "    print(i)"
   ]
  },
  {
   "cell_type": "code",
   "execution_count": 2,
   "id": "15e3f1bb",
   "metadata": {},
   "outputs": [
    {
     "name": "stdout",
     "output_type": "stream",
     "text": [
      "Leite\n",
      "Frutas\n",
      "Carne\n"
     ]
    }
   ],
   "source": [
    "# Criando uma lista e imprimindo cada um dos valores\n",
    "ListaDoMercado = ['Leite', 'Frutas', 'Carne']\n",
    "for i in ListaDoMercado:\n",
    "    print(i)"
   ]
  },
  {
   "cell_type": "code",
   "execution_count": 4,
   "id": "458a9521",
   "metadata": {},
   "outputs": [
    {
     "name": "stdout",
     "output_type": "stream",
     "text": [
      "0\n",
      "1\n",
      "2\n",
      "3\n",
      "4\n"
     ]
    }
   ],
   "source": [
    "# Imprimindo os valores no intervalo entre 0 e 5 (exclusive)\n",
    "for contador in range(0, 5):\n",
    "    print(contador)"
   ]
  },
  {
   "cell_type": "code",
   "execution_count": 5,
   "id": "53d5c854",
   "metadata": {},
   "outputs": [
    {
     "name": "stdout",
     "output_type": "stream",
     "text": [
      "2\n",
      "4\n",
      "6\n",
      "8\n",
      "10\n"
     ]
    }
   ],
   "source": [
    "# Imprimindo na tela os números pares da lista de números\n",
    "lista = [1, 2, 3, 4, 5, 6, 7, 8, 9, 10]\n",
    "for num in lista:\n",
    "    if num % 2 == 0:\n",
    "        print(num)"
   ]
  },
  {
   "cell_type": "code",
   "execution_count": 7,
   "id": "89a5dab1",
   "metadata": {},
   "outputs": [
    {
     "name": "stdout",
     "output_type": "stream",
     "text": [
      "Número :  1\n",
      "Número :  3\n",
      "Número :  5\n",
      "Número :  7\n",
      "Número :  9\n",
      "Número :  11\n",
      "Número :  13\n",
      "Número :  15\n",
      "Número :  17\n",
      "Número :  19\n",
      "Número :  21\n",
      "Número :  23\n",
      "Número :  25\n",
      "Número :  27\n",
      "Número :  29\n",
      "Número :  31\n",
      "Número :  33\n",
      "Número :  35\n",
      "Número :  37\n",
      "Número :  39\n",
      "Número :  41\n",
      "Número :  43\n",
      "Número :  45\n",
      "Número :  47\n",
      "Número :  49\n",
      "Número :  51\n",
      "Número :  53\n",
      "Número :  55\n",
      "Número :  57\n",
      "Número :  59\n",
      "Número :  61\n",
      "Número :  63\n",
      "Número :  65\n",
      "Número :  67\n",
      "Número :  69\n",
      "Número :  71\n",
      "Número :  73\n",
      "Número :  75\n",
      "Número :  77\n",
      "Número :  79\n",
      "Número :  81\n",
      "Número :  83\n",
      "Número :  85\n",
      "Número :  87\n",
      "Número :  89\n",
      "Número :  91\n",
      "Número :  93\n",
      "Número :  95\n",
      "Número :  97\n",
      "Número :  99\n"
     ]
    }
   ],
   "source": [
    "# Listando os números no intervalo entre 0 e 101, com incremento em 2\n",
    "for i in range(1, 101, 2):\n",
    "    print(\"Número : \", i)"
   ]
  },
  {
   "cell_type": "code",
   "execution_count": 9,
   "id": "0408065d",
   "metadata": {},
   "outputs": [
    {
     "name": "stdout",
     "output_type": "stream",
     "text": [
      "P\n",
      "y\n",
      "t\n",
      "h\n",
      "o\n",
      "n\n",
      " \n",
      "é\n",
      " \n",
      "u\n",
      "m\n",
      "a\n",
      " \n",
      "l\n",
      "i\n",
      "n\n",
      "g\n",
      "u\n",
      "a\n",
      "g\n",
      "e\n",
      "m\n",
      " \n",
      "d\n",
      "e\n",
      " \n",
      "p\n",
      "r\n",
      "o\n",
      "g\n",
      "r\n",
      "a\n",
      "m\n",
      "a\n",
      "ç\n",
      "ã\n",
      "o\n",
      " \n",
      "d\n",
      "i\n",
      "v\n",
      "e\n",
      "r\n",
      "t\n",
      "i\n",
      "d\n",
      "a\n",
      "!\n"
     ]
    }
   ],
   "source": [
    "# String também são sequencias\n",
    "for caracter in \"Python é uma linguagem de programação divertida!\":\n",
    "    print(caracter)"
   ]
  },
  {
   "cell_type": "code",
   "execution_count": 11,
   "id": "20076c85",
   "metadata": {},
   "outputs": [
    {
     "name": "stdout",
     "output_type": "stream",
     "text": [
      " \n",
      " \n",
      " \n",
      " \n",
      " \n",
      " \n",
      "!\n",
      "P\n",
      "a\n",
      "a\n",
      "a\n",
      "a\n",
      "a\n",
      "d\n",
      "d\n",
      "d\n",
      "e\n",
      "e\n",
      "e\n",
      "g\n",
      "g\n",
      "g\n",
      "h\n",
      "i\n",
      "i\n",
      "i\n",
      "l\n",
      "m\n",
      "m\n",
      "m\n",
      "n\n",
      "n\n",
      "o\n",
      "o\n",
      "o\n",
      "p\n",
      "r\n",
      "r\n",
      "r\n",
      "t\n",
      "t\n",
      "u\n",
      "u\n",
      "v\n",
      "y\n",
      "ã\n",
      "ç\n",
      "é\n"
     ]
    }
   ],
   "source": [
    "# Ordenar\n",
    "ordenador = []\n",
    "for caracter in \"Python é uma linguagem de programação divertida!\":\n",
    "    ordenador.append(caracter)\n",
    "\n",
    "ordenador.sort()\n",
    "for caracater in ordenador:\n",
    "    print(caracater)"
   ]
  },
  {
   "cell_type": "markdown",
   "id": "61e81664",
   "metadata": {},
   "source": [
    "<b>Loops Aninhados</b>"
   ]
  },
  {
   "cell_type": "code",
   "execution_count": 13,
   "id": "d259ff48",
   "metadata": {},
   "outputs": [
    {
     "name": "stdout",
     "output_type": "stream",
     "text": [
      "0\n",
      "1\n",
      "2\n",
      "3\n",
      "4\n",
      "0\n",
      "1\n",
      "2\n",
      "3\n",
      "4\n",
      "0\n",
      "1\n",
      "2\n",
      "3\n",
      "4\n",
      "0\n",
      "1\n",
      "2\n",
      "3\n",
      "4\n",
      "0\n",
      "1\n",
      "2\n",
      "3\n",
      "4\n"
     ]
    }
   ],
   "source": [
    "# Loops aninhados\n",
    "for i in range(0, 5):\n",
    "    for a in range(0, 5):\n",
    "        print(a)"
   ]
  },
  {
   "cell_type": "code",
   "execution_count": 14,
   "id": "b12ead5f",
   "metadata": {},
   "outputs": [
    {
     "name": "stdout",
     "output_type": "stream",
     "text": [
      "462\n"
     ]
    }
   ],
   "source": [
    "# Operando os valores de um lista com loop for\n",
    "listaB = [32, 53, 85, 10, 15, 17, 19]\n",
    "soma = 0\n",
    "for i in listaB:\n",
    "    double_i = i * 2\n",
    "    soma += double_i\n",
    "print(soma)"
   ]
  },
  {
   "cell_type": "code",
   "execution_count": 16,
   "id": "d10452d9",
   "metadata": {},
   "outputs": [
    {
     "name": "stdout",
     "output_type": "stream",
     "text": [
      "[1, 2, 3]\n",
      "[10, 15, 14]\n",
      "[10.1, 8.7, 2.3]\n"
     ]
    }
   ],
   "source": [
    "# Loops em listas de listas\n",
    "listas = [[1, 2, 3], [10, 15, 14], [10.1, 8.7, 2.3]]\n",
    "for valor in listas:\n",
    "    print( valor)"
   ]
  },
  {
   "cell_type": "code",
   "execution_count": 18,
   "id": "f9d22049",
   "metadata": {},
   "outputs": [
    {
     "name": "stdout",
     "output_type": "stream",
     "text": [
      "5\n"
     ]
    }
   ],
   "source": [
    "# Contando os itens de uma lista\n",
    "lista = [5, 6, 10, 13, 17]\n",
    "count = 0\n",
    "for item in lista:\n",
    "    count+=1\n",
    "print(count)"
   ]
  },
  {
   "cell_type": "code",
   "execution_count": 24,
   "id": "49d898ec",
   "metadata": {},
   "outputs": [
    {
     "name": "stdout",
     "output_type": "stream",
     "text": [
      "Digite o número que deseja a tabuada:5\n",
      "Você solicitou a tabuada do..:  5\n",
      "5 x 1 = 5 \n",
      "5 x 2 = 10 \n",
      "5 x 3 = 15 \n",
      "5 x 4 = 20 \n",
      "5 x 5 = 25 \n",
      "5 x 6 = 30 \n",
      "5 x 7 = 35 \n",
      "5 x 8 = 40 \n",
      "5 x 9 = 45 \n",
      "5 x 10 = 50 \n"
     ]
    }
   ],
   "source": [
    "# Tabuada\n",
    "valorTabuada = int(input('Digite o número que deseja a tabuada:'))\n",
    "resultado = 0\n",
    "print(\"Você solicitou a tabuada do..: \", valorTabuada)\n",
    "for i in range(1, 11):\n",
    "    resultado = valorTabuada * i\n",
    "    print(\"%r x %r = %r \" %(valorTabuada, i, resultado))"
   ]
  },
  {
   "cell_type": "code",
   "execution_count": 25,
   "id": "40b0a8bc",
   "metadata": {},
   "outputs": [
    {
     "name": "stdout",
     "output_type": "stream",
     "text": [
      "3\n"
     ]
    }
   ],
   "source": [
    "# Contando o número de colunas\n",
    "lst = [[1, 2, 3], [3, 4, 5], [5, 6, 7]]\n",
    "primeira_linha = lst[0]\n",
    "count = 0\n",
    "for column in primeira_linha:\n",
    "    count = count +1\n",
    "print(count)"
   ]
  },
  {
   "cell_type": "code",
   "execution_count": 27,
   "id": "7373f6af",
   "metadata": {},
   "outputs": [
    {
     "name": "stdout",
     "output_type": "stream",
     "text": [
      "Número 5 encontrado na lista\n"
     ]
    }
   ],
   "source": [
    "# Pesquisando em listas\n",
    "listaC = [5, 6, 7, 10, 50]\n",
    "\n",
    "# Loop através da lista\n",
    "for item in listaC:\n",
    "    if item == 5:\n",
    "        print(\"Número %r encontrado na lista\" %(item))"
   ]
  },
  {
   "cell_type": "code",
   "execution_count": 36,
   "id": "9a71399d",
   "metadata": {},
   "outputs": [
    {
     "name": "stdout",
     "output_type": "stream",
     "text": [
      "k1  =  Python\n",
      "k2  =  R\n",
      "k3  =  Scala\n"
     ]
    }
   ],
   "source": [
    "# Listabdo as chaves de um dicionário\n",
    "dict = {'k1':'Python', 'k2':'R', 'k3': 'Scala'}\n",
    "for item in dict:\n",
    "    print(item, \" = \", dict[item])\n"
   ]
  },
  {
   "cell_type": "code",
   "execution_count": 37,
   "id": "d4fa53e3",
   "metadata": {},
   "outputs": [
    {
     "name": "stdout",
     "output_type": "stream",
     "text": [
      "k1 Python\n",
      "k2 R\n",
      "k3 Scala\n"
     ]
    }
   ],
   "source": [
    "# Imprimindo chave e valor do dicionário. Usando o método items() para retornar os itens de um dicionário\n",
    "\n",
    "for k, v in dict.items():\n",
    "    print(k,v)"
   ]
  },
  {
   "cell_type": "markdown",
   "id": "193d147e",
   "metadata": {},
   "source": [
    "## Fim"
   ]
  }
 ],
 "metadata": {
  "kernelspec": {
   "display_name": "Python 3 (ipykernel)",
   "language": "python",
   "name": "python3"
  },
  "language_info": {
   "codemirror_mode": {
    "name": "ipython",
    "version": 3
   },
   "file_extension": ".py",
   "mimetype": "text/x-python",
   "name": "python",
   "nbconvert_exporter": "python",
   "pygments_lexer": "ipython3",
   "version": "3.9.13"
  }
 },
 "nbformat": 4,
 "nbformat_minor": 5
}
