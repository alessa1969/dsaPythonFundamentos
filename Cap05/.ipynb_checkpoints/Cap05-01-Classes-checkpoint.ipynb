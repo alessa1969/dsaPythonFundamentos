{
 "cells": [
  {
   "cell_type": "markdown",
   "id": "9aa35b25",
   "metadata": {},
   "source": [
    "## <font color = \"blue\"> Data Science Academy - Python Fundamentos - Capitulo 5"
   ]
  },
  {
   "cell_type": "markdown",
   "id": "bf9dfb96",
   "metadata": {},
   "source": [
    "## Classes\n",
    "Para criar um classe, utiliza-se a palavra reservada class. O nome da sua classe segue a mesma convenção de nomes\n",
    "para a criação de funções e variáveis, mas normalmente se usa a primeira letra maiúscula em cada palavra no nome da classe."
   ]
  },
  {
   "cell_type": "code",
   "execution_count": null,
   "id": "189c8c0d",
   "metadata": {},
   "outputs": [],
   "source": [
    "# Criando uma classe chamada livro\n",
    "class Livro():\n",
    "    \n",
    "    # Este método vai inicializar cada objeto a partir desta classe\n",
    "    # o nome deste método é __init__\n",
    "    # (self) é uma referência a cada atributo de um objeto criado a partir desta classe\n",
    "    def __init__(self):\n",
    "        \n",
    "        # Atributos de cada objeto criado a partir desta classe.\n",
    "        #O self indica que este são parâmetros dos objetos\n",
    "        self.titulo = \"O monge e o Executivo\"\n",
    "        self.isbn = 99888888\n",
    "        print(\"Construtor chamado para criar um objeto\")\n",
    "        \n",
    "    # Métodos são funções , que recebem como parâmetro atributos do objeto criado\n",
    "    def imprime(self):\n",
    "        print(\"Foi criado o livro %s e ISBN %d\" %(self.titulo, self.isbn))"
   ]
  }
 ],
 "metadata": {
  "kernelspec": {
   "display_name": "Python 3 (ipykernel)",
   "language": "python",
   "name": "python3"
  },
  "language_info": {
   "codemirror_mode": {
    "name": "ipython",
    "version": 3
   },
   "file_extension": ".py",
   "mimetype": "text/x-python",
   "name": "python",
   "nbconvert_exporter": "python",
   "pygments_lexer": "ipython3",
   "version": "3.9.13"
  }
 },
 "nbformat": 4,
 "nbformat_minor": 5
}
