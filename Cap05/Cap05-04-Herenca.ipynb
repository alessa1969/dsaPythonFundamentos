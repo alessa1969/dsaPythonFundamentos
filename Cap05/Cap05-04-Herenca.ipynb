{
 "cells": [
  {
   "cell_type": "markdown",
   "id": "46219cc4",
   "metadata": {},
   "source": [
    "## <font color ='blue'> Data Science Academy - Python Fundamentos - Capitulo 5"
   ]
  },
  {
   "cell_type": "markdown",
   "id": "8524c270",
   "metadata": {},
   "source": [
    "## Herança"
   ]
  },
  {
   "cell_type": "code",
   "execution_count": 1,
   "id": "66762624",
   "metadata": {},
   "outputs": [],
   "source": [
    "# Criando a classe Animal - Super-classe\n",
    "class Animal():\n",
    "    \n",
    "    def __init__(self):\n",
    "        print(\"Animal criado\")\n",
    "        \n",
    "    def identif(self):\n",
    "        print(\"Animal\")\n",
    "    \n",
    "    def comer(self):\n",
    "        print(\"Comendo\")"
   ]
  },
  {
   "cell_type": "code",
   "execution_count": 2,
   "id": "a9812adb",
   "metadata": {},
   "outputs": [],
   "source": [
    "# Criando a classe Cachorro - Sub-classe\n",
    "class Cachorro(Animal):\n",
    "    \n",
    "    def __init__(self):\n",
    "        Animal.__init__(self)\n",
    "        print('Objeto cachorro criado')\n",
    "    \n",
    "    def identif(self):\n",
    "        print(\"Cachorro\")\n",
    "        \n",
    "    def latir(self):\n",
    "        print(\"Au Au!\")"
   ]
  },
  {
   "cell_type": "code",
   "execution_count": 3,
   "id": "9884fc28",
   "metadata": {},
   "outputs": [
    {
     "name": "stdout",
     "output_type": "stream",
     "text": [
      "Animal criado\n",
      "Objeto cachorro criado\n"
     ]
    }
   ],
   "source": [
    "# Criando um objeto (instanciando a classe)\n",
    "rex = Cachorro()"
   ]
  },
  {
   "cell_type": "code",
   "execution_count": 4,
   "id": "6d5b1df2",
   "metadata": {},
   "outputs": [
    {
     "name": "stdout",
     "output_type": "stream",
     "text": [
      "Cachorro\n"
     ]
    }
   ],
   "source": [
    "# Executando o método da classe Cachorro (sub-classes)\n",
    "rex.identif()"
   ]
  },
  {
   "cell_type": "code",
   "execution_count": 5,
   "id": "44f0089c",
   "metadata": {},
   "outputs": [
    {
     "name": "stdout",
     "output_type": "stream",
     "text": [
      "Comendo\n"
     ]
    }
   ],
   "source": [
    "rex.comer()"
   ]
  },
  {
   "cell_type": "code",
   "execution_count": 7,
   "id": "d4baf902",
   "metadata": {},
   "outputs": [
    {
     "name": "stdout",
     "output_type": "stream",
     "text": [
      "Au Au!\n"
     ]
    }
   ],
   "source": [
    "rex.latir()"
   ]
  },
  {
   "cell_type": "markdown",
   "id": "df89e2c6",
   "metadata": {},
   "source": [
    "## Fim"
   ]
  }
 ],
 "metadata": {
  "kernelspec": {
   "display_name": "Python 3 (ipykernel)",
   "language": "python",
   "name": "python3"
  },
  "language_info": {
   "codemirror_mode": {
    "name": "ipython",
    "version": 3
   },
   "file_extension": ".py",
   "mimetype": "text/x-python",
   "name": "python",
   "nbconvert_exporter": "python",
   "pygments_lexer": "ipython3",
   "version": "3.9.13"
  }
 },
 "nbformat": 4,
 "nbformat_minor": 5
}
